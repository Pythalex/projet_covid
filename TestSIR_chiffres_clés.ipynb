{
 "cells": [
  {
   "cell_type": "code",
   "execution_count": 1,
   "metadata": {},
   "outputs": [],
   "source": [
    "import config\n",
    "import visual.plot as vplot\n",
    "from model.sirmodel import SIRModel\n",
    "\n",
    "import pandas as pd\n",
    "import numpy as np\n",
    "import matplotlib.pyplot as plt\n",
    "import scipy"
   ]
  },
  {
   "cell_type": "code",
   "execution_count": 2,
   "metadata": {},
   "outputs": [
    {
     "data": {
      "text/html": [
       "<div>\n",
       "<style scoped>\n",
       "    .dataframe tbody tr th:only-of-type {\n",
       "        vertical-align: middle;\n",
       "    }\n",
       "\n",
       "    .dataframe tbody tr th {\n",
       "        vertical-align: top;\n",
       "    }\n",
       "\n",
       "    .dataframe thead th {\n",
       "        text-align: right;\n",
       "    }\n",
       "</style>\n",
       "<table border=\"1\" class=\"dataframe\">\n",
       "  <thead>\n",
       "    <tr style=\"text-align: right;\">\n",
       "      <th></th>\n",
       "      <th>Unnamed: 0</th>\n",
       "      <th>date</th>\n",
       "      <th>granularite</th>\n",
       "      <th>maille_code</th>\n",
       "      <th>maille_nom</th>\n",
       "      <th>cas_confirmes</th>\n",
       "      <th>cas_ehpad</th>\n",
       "      <th>cas_confirmes_ehpad</th>\n",
       "      <th>cas_possibles_ehpad</th>\n",
       "      <th>deces</th>\n",
       "      <th>deces_ehpad</th>\n",
       "      <th>reanimation</th>\n",
       "      <th>hospitalises</th>\n",
       "      <th>gueris</th>\n",
       "      <th>depistes</th>\n",
       "      <th>source_nom</th>\n",
       "      <th>source_url</th>\n",
       "      <th>source_archive</th>\n",
       "      <th>source_type</th>\n",
       "      <th>susceptible</th>\n",
       "    </tr>\n",
       "  </thead>\n",
       "  <tbody>\n",
       "    <tr>\n",
       "      <th>100</th>\n",
       "      <td>100</td>\n",
       "      <td>2020-05-08</td>\n",
       "      <td>pays</td>\n",
       "      <td>FRA</td>\n",
       "      <td>France</td>\n",
       "      <td>138421.0</td>\n",
       "      <td>72548.0</td>\n",
       "      <td>34890.0</td>\n",
       "      <td>NaN</td>\n",
       "      <td>16497.0</td>\n",
       "      <td>9733.0</td>\n",
       "      <td>2868.0</td>\n",
       "      <td>22724.0</td>\n",
       "      <td>55782.0</td>\n",
       "      <td>NaN</td>\n",
       "      <td>Ministère des Solidarités et de la Santé</td>\n",
       "      <td>NaN</td>\n",
       "      <td>NaN</td>\n",
       "      <td>ministere-sante</td>\n",
       "      <td>66789300.0</td>\n",
       "    </tr>\n",
       "    <tr>\n",
       "      <th>101</th>\n",
       "      <td>101</td>\n",
       "      <td>2020-05-09</td>\n",
       "      <td>pays</td>\n",
       "      <td>FRA</td>\n",
       "      <td>France</td>\n",
       "      <td>138854.0</td>\n",
       "      <td>72850.0</td>\n",
       "      <td>35046.0</td>\n",
       "      <td>NaN</td>\n",
       "      <td>16573.0</td>\n",
       "      <td>9737.0</td>\n",
       "      <td>2812.0</td>\n",
       "      <td>22614.0</td>\n",
       "      <td>56038.0</td>\n",
       "      <td>NaN</td>\n",
       "      <td>Ministère des Solidarités et de la Santé</td>\n",
       "      <td>NaN</td>\n",
       "      <td>NaN</td>\n",
       "      <td>ministere-sante</td>\n",
       "      <td>66788535.0</td>\n",
       "    </tr>\n",
       "    <tr>\n",
       "      <th>102</th>\n",
       "      <td>102</td>\n",
       "      <td>2020-05-10</td>\n",
       "      <td>pays</td>\n",
       "      <td>FRA</td>\n",
       "      <td>France</td>\n",
       "      <td>139063.0</td>\n",
       "      <td>73143.0</td>\n",
       "      <td>35236.0</td>\n",
       "      <td>NaN</td>\n",
       "      <td>16642.0</td>\n",
       "      <td>9738.0</td>\n",
       "      <td>2776.0</td>\n",
       "      <td>22569.0</td>\n",
       "      <td>56217.0</td>\n",
       "      <td>NaN</td>\n",
       "      <td>Ministère des Solidarités et de la Santé</td>\n",
       "      <td>NaN</td>\n",
       "      <td>NaN</td>\n",
       "      <td>ministere-sante</td>\n",
       "      <td>66788078.0</td>\n",
       "    </tr>\n",
       "    <tr>\n",
       "      <th>103</th>\n",
       "      <td>103</td>\n",
       "      <td>2020-05-11</td>\n",
       "      <td>pays</td>\n",
       "      <td>FRA</td>\n",
       "      <td>France</td>\n",
       "      <td>139519.0</td>\n",
       "      <td>73099.0</td>\n",
       "      <td>35195.0</td>\n",
       "      <td>NaN</td>\n",
       "      <td>16820.0</td>\n",
       "      <td>9823.0</td>\n",
       "      <td>2712.0</td>\n",
       "      <td>22284.0</td>\n",
       "      <td>56724.0</td>\n",
       "      <td>NaN</td>\n",
       "      <td>Ministère des Solidarités et de la Santé</td>\n",
       "      <td>NaN</td>\n",
       "      <td>NaN</td>\n",
       "      <td>ministere-sante</td>\n",
       "      <td>66786937.0</td>\n",
       "    </tr>\n",
       "    <tr>\n",
       "      <th>104</th>\n",
       "      <td>104</td>\n",
       "      <td>2020-05-12</td>\n",
       "      <td>pays</td>\n",
       "      <td>FRA</td>\n",
       "      <td>France</td>\n",
       "      <td>140227.0</td>\n",
       "      <td>73435.0</td>\n",
       "      <td>35437.0</td>\n",
       "      <td>NaN</td>\n",
       "      <td>17003.0</td>\n",
       "      <td>9988.0</td>\n",
       "      <td>2542.0</td>\n",
       "      <td>21595.0</td>\n",
       "      <td>57785.0</td>\n",
       "      <td>NaN</td>\n",
       "      <td>Ministère des Solidarités et de la Santé</td>\n",
       "      <td>NaN</td>\n",
       "      <td>NaN</td>\n",
       "      <td>ministere-sante</td>\n",
       "      <td>66784985.0</td>\n",
       "    </tr>\n",
       "  </tbody>\n",
       "</table>\n",
       "</div>"
      ],
      "text/plain": [
       "     Unnamed: 0        date granularite maille_code maille_nom  cas_confirmes  \\\n",
       "100         100  2020-05-08        pays         FRA     France       138421.0   \n",
       "101         101  2020-05-09        pays         FRA     France       138854.0   \n",
       "102         102  2020-05-10        pays         FRA     France       139063.0   \n",
       "103         103  2020-05-11        pays         FRA     France       139519.0   \n",
       "104         104  2020-05-12        pays         FRA     France       140227.0   \n",
       "\n",
       "     cas_ehpad  cas_confirmes_ehpad  cas_possibles_ehpad    deces  \\\n",
       "100    72548.0              34890.0                  NaN  16497.0   \n",
       "101    72850.0              35046.0                  NaN  16573.0   \n",
       "102    73143.0              35236.0                  NaN  16642.0   \n",
       "103    73099.0              35195.0                  NaN  16820.0   \n",
       "104    73435.0              35437.0                  NaN  17003.0   \n",
       "\n",
       "     deces_ehpad  reanimation  hospitalises   gueris  depistes  \\\n",
       "100       9733.0       2868.0       22724.0  55782.0       NaN   \n",
       "101       9737.0       2812.0       22614.0  56038.0       NaN   \n",
       "102       9738.0       2776.0       22569.0  56217.0       NaN   \n",
       "103       9823.0       2712.0       22284.0  56724.0       NaN   \n",
       "104       9988.0       2542.0       21595.0  57785.0       NaN   \n",
       "\n",
       "                                   source_nom source_url source_archive  \\\n",
       "100  Ministère des Solidarités et de la Santé        NaN            NaN   \n",
       "101  Ministère des Solidarités et de la Santé        NaN            NaN   \n",
       "102  Ministère des Solidarités et de la Santé        NaN            NaN   \n",
       "103  Ministère des Solidarités et de la Santé        NaN            NaN   \n",
       "104  Ministère des Solidarités et de la Santé        NaN            NaN   \n",
       "\n",
       "         source_type  susceptible  \n",
       "100  ministere-sante   66789300.0  \n",
       "101  ministere-sante   66788535.0  \n",
       "102  ministere-sante   66788078.0  \n",
       "103  ministere-sante   66786937.0  \n",
       "104  ministere-sante   66784985.0  "
      ]
     },
     "execution_count": 2,
     "metadata": {},
     "output_type": "execute_result"
    }
   ],
   "source": [
    "df = pd.read_csv(\"data/covid/france/evolution_par_jour.csv\", sep=\",\")\n",
    "df.tail()"
   ]
  },
  {
   "cell_type": "code",
   "execution_count": 3,
   "metadata": {},
   "outputs": [],
   "source": [
    "df = df[df[\"date\"] < \"2020-04-01\"]"
   ]
  },
  {
   "cell_type": "markdown",
   "metadata": {},
   "source": [
    "## Fit"
   ]
  },
  {
   "cell_type": "code",
   "execution_count": 5,
   "metadata": {},
   "outputs": [],
   "source": [
    "sir = SIRModel()"
   ]
  },
  {
   "cell_type": "code",
   "execution_count": 6,
   "metadata": {},
   "outputs": [
    {
     "name": "stdout",
     "output_type": "stream",
     "text": [
      "[3.49658378 3.33167631]\n"
     ]
    },
    {
     "name": "stderr",
     "output_type": "stream",
     "text": [
      "/home/alexvm/Documents/projet_SDD/projetgit/venv/lib/python3.8/site-packages/scipy/integrate/odepack.py:248: ODEintWarning: Excess work done on this call (perhaps wrong Dfun type). Run with full_output = 1 to get quantitative information.\n",
      "  warnings.warn(warning_msg, ODEintWarning)\n"
     ]
    },
    {
     "data": {
      "text/plain": [
       "<model.sirmodel.SIRModel at 0x7f3ac068e7c0>"
      ]
     },
     "execution_count": 6,
     "metadata": {},
     "output_type": "execute_result"
    }
   ],
   "source": [
    "t = range(df.shape[0])\n",
    "sir.fit(t, df[\"cas_confirmes\"])"
   ]
  },
  {
   "cell_type": "markdown",
   "metadata": {},
   "source": [
    "## Predict"
   ]
  },
  {
   "cell_type": "code",
   "execution_count": 7,
   "metadata": {},
   "outputs": [],
   "source": [
    "# Integrate the SIR equations over the time grid, t.\n",
    "t = range(100)\n",
    "S, I, R = sir.predict(t)"
   ]
  },
  {
   "cell_type": "code",
   "execution_count": 8,
   "metadata": {},
   "outputs": [
    {
     "data": {
      "text/plain": [
       "<matplotlib.axes._subplots.AxesSubplot at 0x7f3a8616e5e0>"
      ]
     },
     "execution_count": 8,
     "metadata": {},
     "output_type": "execute_result"
    },
    {
     "data": {
      "image/png": "[encoded data removed]",
      "text/plain": [
       "<Figure size 432x288 with 1 Axes>"
      ]
     },
     "metadata": {},
     "output_type": "display_data"
    }
   ],
   "source": [
    "vplot.plot_SIR(S, I, R, t)\n",
    "df[\"cas_confirmes\"].plot()"
   ]
  },
  {
   "cell_type": "code",
   "execution_count": 9,
   "metadata": {},
   "outputs": [
    {
     "data": {
      "text/plain": [
       "<matplotlib.axes._subplots.AxesSubplot at 0x7f3a839564c0>"
      ]
     },
     "execution_count": 9,
     "metadata": {},
     "output_type": "execute_result"
    },
    {
     "data": {
      "image/png": "[encoded data removed]",
      "text/plain": [
       "<Figure size 432x288 with 1 Axes>"
      ]
     },
     "metadata": {},
     "output_type": "display_data"
    }
   ],
   "source": [
    "vplot.plot_SIR(S=None, I=I, R=None, t=t) # only I\n",
    "df[\"cas_confirmes\"].plot()"
   ]
  }
 ],
 "metadata": {
  "kernelspec": {
   "display_name": "Python 3",
   "language": "python",
   "name": "python3"
  },
  "language_info": {
   "codemirror_mode": {
    "name": "ipython",
    "version": 3
   },
   "file_extension": ".py",
   "mimetype": "text/x-python",
   "name": "python",
   "nbconvert_exporter": "python",
   "pygments_lexer": "ipython3",
   "version": "3.8.2"
  }
 },
 "nbformat": 4,
 "nbformat_minor": 4
}
