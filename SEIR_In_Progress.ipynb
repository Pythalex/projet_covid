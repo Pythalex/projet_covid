{
 "cells": [
  {
   "cell_type": "code",
   "execution_count": 66,
   "metadata": {},
   "outputs": [],
   "source": [
    "import config\n",
    "import pandas as pd\n",
    "import numpy as np\n",
    "import matplotlib.pyplot as plt\n",
    "import scipy"
   ]
  },
  {
   "cell_type": "code",
   "execution_count": 67,
   "metadata": {},
   "outputs": [
    {
     "data": {
      "text/html": [
       "<div>\n",
       "<style scoped>\n",
       "    .dataframe tbody tr th:only-of-type {\n",
       "        vertical-align: middle;\n",
       "    }\n",
       "\n",
       "    .dataframe tbody tr th {\n",
       "        vertical-align: top;\n",
       "    }\n",
       "\n",
       "    .dataframe thead th {\n",
       "        text-align: right;\n",
       "    }\n",
       "</style>\n",
       "<table border=\"1\" class=\"dataframe\">\n",
       "  <thead>\n",
       "    <tr style=\"text-align: right;\">\n",
       "      <th></th>\n",
       "      <th>Unnamed: 0</th>\n",
       "      <th>date</th>\n",
       "      <th>granularite</th>\n",
       "      <th>maille_code</th>\n",
       "      <th>maille_nom</th>\n",
       "      <th>cas_confirmes</th>\n",
       "      <th>cas_ehpad</th>\n",
       "      <th>cas_confirmes_ehpad</th>\n",
       "      <th>cas_possibles_ehpad</th>\n",
       "      <th>deces</th>\n",
       "      <th>deces_ehpad</th>\n",
       "      <th>reanimation</th>\n",
       "      <th>hospitalises</th>\n",
       "      <th>gueris</th>\n",
       "      <th>depistes</th>\n",
       "      <th>source_nom</th>\n",
       "      <th>source_url</th>\n",
       "      <th>source_archive</th>\n",
       "      <th>source_type</th>\n",
       "      <th>susceptible</th>\n",
       "    </tr>\n",
       "  </thead>\n",
       "  <tbody>\n",
       "    <tr>\n",
       "      <th>100</th>\n",
       "      <td>100</td>\n",
       "      <td>2020-05-08</td>\n",
       "      <td>pays</td>\n",
       "      <td>FRA</td>\n",
       "      <td>France</td>\n",
       "      <td>138421.0</td>\n",
       "      <td>72548.0</td>\n",
       "      <td>34890.0</td>\n",
       "      <td>NaN</td>\n",
       "      <td>16497.0</td>\n",
       "      <td>9733.0</td>\n",
       "      <td>2868.0</td>\n",
       "      <td>22724.0</td>\n",
       "      <td>55782.0</td>\n",
       "      <td>NaN</td>\n",
       "      <td>Ministère des Solidarités et de la Santé</td>\n",
       "      <td>NaN</td>\n",
       "      <td>NaN</td>\n",
       "      <td>ministere-sante</td>\n",
       "      <td>66789300.0</td>\n",
       "    </tr>\n",
       "    <tr>\n",
       "      <th>101</th>\n",
       "      <td>101</td>\n",
       "      <td>2020-05-09</td>\n",
       "      <td>pays</td>\n",
       "      <td>FRA</td>\n",
       "      <td>France</td>\n",
       "      <td>138854.0</td>\n",
       "      <td>72850.0</td>\n",
       "      <td>35046.0</td>\n",
       "      <td>NaN</td>\n",
       "      <td>16573.0</td>\n",
       "      <td>9737.0</td>\n",
       "      <td>2812.0</td>\n",
       "      <td>22614.0</td>\n",
       "      <td>56038.0</td>\n",
       "      <td>NaN</td>\n",
       "      <td>Ministère des Solidarités et de la Santé</td>\n",
       "      <td>NaN</td>\n",
       "      <td>NaN</td>\n",
       "      <td>ministere-sante</td>\n",
       "      <td>66788535.0</td>\n",
       "    </tr>\n",
       "    <tr>\n",
       "      <th>102</th>\n",
       "      <td>102</td>\n",
       "      <td>2020-05-10</td>\n",
       "      <td>pays</td>\n",
       "      <td>FRA</td>\n",
       "      <td>France</td>\n",
       "      <td>139063.0</td>\n",
       "      <td>73143.0</td>\n",
       "      <td>35236.0</td>\n",
       "      <td>NaN</td>\n",
       "      <td>16642.0</td>\n",
       "      <td>9738.0</td>\n",
       "      <td>2776.0</td>\n",
       "      <td>22569.0</td>\n",
       "      <td>56217.0</td>\n",
       "      <td>NaN</td>\n",
       "      <td>Ministère des Solidarités et de la Santé</td>\n",
       "      <td>NaN</td>\n",
       "      <td>NaN</td>\n",
       "      <td>ministere-sante</td>\n",
       "      <td>66788078.0</td>\n",
       "    </tr>\n",
       "    <tr>\n",
       "      <th>103</th>\n",
       "      <td>103</td>\n",
       "      <td>2020-05-11</td>\n",
       "      <td>pays</td>\n",
       "      <td>FRA</td>\n",
       "      <td>France</td>\n",
       "      <td>139519.0</td>\n",
       "      <td>73099.0</td>\n",
       "      <td>35195.0</td>\n",
       "      <td>NaN</td>\n",
       "      <td>16820.0</td>\n",
       "      <td>9823.0</td>\n",
       "      <td>2712.0</td>\n",
       "      <td>22284.0</td>\n",
       "      <td>56724.0</td>\n",
       "      <td>NaN</td>\n",
       "      <td>Ministère des Solidarités et de la Santé</td>\n",
       "      <td>NaN</td>\n",
       "      <td>NaN</td>\n",
       "      <td>ministere-sante</td>\n",
       "      <td>66786937.0</td>\n",
       "    </tr>\n",
       "    <tr>\n",
       "      <th>104</th>\n",
       "      <td>104</td>\n",
       "      <td>2020-05-12</td>\n",
       "      <td>pays</td>\n",
       "      <td>FRA</td>\n",
       "      <td>France</td>\n",
       "      <td>140227.0</td>\n",
       "      <td>73435.0</td>\n",
       "      <td>35437.0</td>\n",
       "      <td>NaN</td>\n",
       "      <td>17003.0</td>\n",
       "      <td>9988.0</td>\n",
       "      <td>2542.0</td>\n",
       "      <td>21595.0</td>\n",
       "      <td>57785.0</td>\n",
       "      <td>NaN</td>\n",
       "      <td>Ministère des Solidarités et de la Santé</td>\n",
       "      <td>NaN</td>\n",
       "      <td>NaN</td>\n",
       "      <td>ministere-sante</td>\n",
       "      <td>66784985.0</td>\n",
       "    </tr>\n",
       "  </tbody>\n",
       "</table>\n",
       "</div>"
      ],
      "text/plain": [
       "     Unnamed: 0        date granularite maille_code maille_nom  cas_confirmes  \\\n",
       "100         100  2020-05-08        pays         FRA     France       138421.0   \n",
       "101         101  2020-05-09        pays         FRA     France       138854.0   \n",
       "102         102  2020-05-10        pays         FRA     France       139063.0   \n",
       "103         103  2020-05-11        pays         FRA     France       139519.0   \n",
       "104         104  2020-05-12        pays         FRA     France       140227.0   \n",
       "\n",
       "     cas_ehpad  cas_confirmes_ehpad  cas_possibles_ehpad    deces  \\\n",
       "100    72548.0              34890.0                  NaN  16497.0   \n",
       "101    72850.0              35046.0                  NaN  16573.0   \n",
       "102    73143.0              35236.0                  NaN  16642.0   \n",
       "103    73099.0              35195.0                  NaN  16820.0   \n",
       "104    73435.0              35437.0                  NaN  17003.0   \n",
       "\n",
       "     deces_ehpad  reanimation  hospitalises   gueris  depistes  \\\n",
       "100       9733.0       2868.0       22724.0  55782.0       NaN   \n",
       "101       9737.0       2812.0       22614.0  56038.0       NaN   \n",
       "102       9738.0       2776.0       22569.0  56217.0       NaN   \n",
       "103       9823.0       2712.0       22284.0  56724.0       NaN   \n",
       "104       9988.0       2542.0       21595.0  57785.0       NaN   \n",
       "\n",
       "                                   source_nom source_url source_archive  \\\n",
       "100  Ministère des Solidarités et de la Santé        NaN            NaN   \n",
       "101  Ministère des Solidarités et de la Santé        NaN            NaN   \n",
       "102  Ministère des Solidarités et de la Santé        NaN            NaN   \n",
       "103  Ministère des Solidarités et de la Santé        NaN            NaN   \n",
       "104  Ministère des Solidarités et de la Santé        NaN            NaN   \n",
       "\n",
       "         source_type  susceptible  \n",
       "100  ministere-sante   66789300.0  \n",
       "101  ministere-sante   66788535.0  \n",
       "102  ministere-sante   66788078.0  \n",
       "103  ministere-sante   66786937.0  \n",
       "104  ministere-sante   66784985.0  "
      ]
     },
     "execution_count": 67,
     "metadata": {},
     "output_type": "execute_result"
    }
   ],
   "source": [
    "df = pd.read_csv(\"data/covid/france/evolution_par_jour.csv\", sep=\",\")\n",
    "df.tail()"
   ]
  },
  {
   "cell_type": "code",
   "execution_count": 68,
   "metadata": {},
   "outputs": [],
   "source": [
    "df = df[df[\"date\"] < \"2020-04-01\"]"
   ]
  },
  {
   "cell_type": "code",
   "execution_count": 69,
   "metadata": {},
   "outputs": [],
   "source": [
    "E0 = 1\n",
    "y0 = S0, E0, I0, R0\n",
    "\n",
    "f = lambda x, param : param*x**2 # la fonction\n",
    "param_x = 0 # le paramètre à trouver\n",
    "xrange = list(range(10)) # le nombre de valeurs tests\n",
    "mesdonnees = [f(i, 2) for i in xrange] # les valeurs tests"
   ]
  },
  {
   "cell_type": "code",
   "execution_count": 70,
   "metadata": {},
   "outputs": [
    {
     "name": "stdout",
     "output_type": "stream",
     "text": [
      "paramètres = [2.], covariances = [[0.]]\n"
     ]
    }
   ],
   "source": [
    "params, covariance = scipy.optimize.curve_fit(f, xrange, mesdonnees) # fit\n",
    "print(f\"paramètres = {params}, covariances = {covariance}\")"
   ]
  },
  {
   "cell_type": "code",
   "execution_count": 71,
   "metadata": {},
   "outputs": [],
   "source": [
    "def deriv(y, t, N, beta, gamma, delta):\n",
    "    S, E, I, R = y\n",
    "    dSdt = -beta * S * I / N\n",
    "    dEdt = beta * S * I / N - delta * E\n",
    "    dIdt = delta * E - gamma * I\n",
    "    dRdt = gamma * I\n",
    "    return dSdt, dEdt, dIdt, dRdt"
   ]
  },
  {
   "cell_type": "markdown",
   "metadata": {},
   "source": [
    "### Test curve fit sur les données covid (SEIR)"
   ]
  },
  {
   "cell_type": "code",
   "execution_count": 72,
   "metadata": {},
   "outputs": [
    {
     "name": "stdout",
     "output_type": "stream",
     "text": [
      "paramètres = [1.0970995  0.91237172 6.1316369 ], covariances = [[ 5.70778538e-04  4.71765447e-04 -2.48773819e-02]\n",
      " [ 4.71765447e-04  3.90118062e-04 -2.08174000e-02]\n",
      " [-2.48773819e-02 -2.08174000e-02  1.58123028e+00]]\n"
     ]
    }
   ],
   "source": [
    "f = lambda t, beta, gamma, delta : (odeint(deriv, y0, t, args=(N, beta, gamma, delta)).T)[2] # [2] = only Infected\n",
    "params, covariance = scipy.optimize.curve_fit(f, range(df.shape[0]), df[\"cas_confirmes\"]) # fit\n",
    "print(f\"paramètres = {params}, covariances = {covariance}\")"
   ]
  },
  {
   "cell_type": "code",
   "execution_count": 73,
   "metadata": {},
   "outputs": [],
   "source": [
    "beta = params[0]\n",
    "gamma = params[1]\n",
    "delta = params[2]"
   ]
  },
  {
   "cell_type": "code",
   "execution_count": 74,
   "metadata": {},
   "outputs": [
    {
     "data": {
      "image/png": "[encoded data removed]",
      "text/plain": [
       "<Figure size 432x288 with 1 Axes>"
      ]
     },
     "metadata": {},
     "output_type": "display_data"
    }
   ],
   "source": [
    "import numpy as np\n",
    "from scipy.integrate import odeint\n",
    "import matplotlib.pyplot as plt\n",
    "\n",
    "# Total population, N.\n",
    "N = 67000000\n",
    "# Initial number of infected and recovered individuals, I0 and R0.\n",
    "E0, I0, R0 = 1, 3, 0\n",
    "# Everyone else, S0, is susceptible to infection initially.\n",
    "S0 = N - I0 - R0 - E0\n",
    "# A grid of time points (in days)\n",
    "t = np.linspace(0, 80)\n",
    "\n",
    "# The SIR model differential equations.\n",
    "def deriv(y, t, N, beta, gamma, delta):\n",
    "    S, E, I, R = y\n",
    "    dSdt = -beta * S * I / N\n",
    "    dEdt = beta * S * I / N - delta * E\n",
    "    dIdt = delta * E - gamma * I\n",
    "    dRdt = gamma * I\n",
    "    return dSdt, dEdt, dIdt, dRdt\n",
    "\n",
    "# Initial conditions vector\n",
    "y0 = S0, E0, I0, R0\n",
    "# Integrate the SIR equations over the time grid, t.\n",
    "ret = odeint(deriv, y0, t, args=(N, beta, gamma,delta))\n",
    "S, E, I, R = ret.T\n",
    "\n",
    "# Plot the data on three separate curves for S(t), I(t) and R(t)\n",
    "fig = plt.figure(facecolor='w')\n",
    "ax = fig.add_subplot(111, facecolor='#dddddd', axisbelow=True)\n",
    "#ax.plot(t, S, 'b', alpha=0.5, lw=2, label='Susceptible')\n",
    "ax.plot(t, I, 'r', alpha=0.5, lw=2, label='Infected')\n",
    "ax.plot(t, E, 'g', alpha=0.5, lw=2, label='Exposed')\n",
    "#ax.plot(t, R, 'g', alpha=0.5, lw=2, label='Recovered with immunity')\n",
    "ax.set_xlabel('Time /days')\n",
    "ax.set_ylabel('Number (1000s)')\n",
    "#ax.set_ylim(0,1.2)\n",
    "ax.yaxis.set_tick_params(length=0)\n",
    "ax.xaxis.set_tick_params(length=0)\n",
    "ax.grid(b=True, which='major', c='w', lw=2, ls='-')\n",
    "legend = ax.legend()\n",
    "legend.get_frame().set_alpha(0.5)\n",
    "for spine in ('top', 'right', 'bottom', 'left'):\n",
    "    ax.spines[spine].set_visible(False)\n",
    "    \n",
    "df[[\"cas_confirmes\", \"deces\"]].plot(ax=ax)\n",
    "\n",
    "#ax.set_xlim(0, 300)\n",
    "\n",
    "plt.show()"
   ]
  },
  {
   "cell_type": "code",
   "execution_count": null,
   "metadata": {},
   "outputs": [],
   "source": []
  },
  {
   "cell_type": "code",
   "execution_count": null,
   "metadata": {},
   "outputs": [],
   "source": []
  }
 ],
 "metadata": {
  "kernelspec": {
   "display_name": "Python 3",
   "language": "python",
   "name": "python3"
  },
  "language_info": {
   "codemirror_mode": {
    "name": "ipython",
    "version": 3
   },
   "file_extension": ".py",
   "mimetype": "text/x-python",
   "name": "python",
   "nbconvert_exporter": "python",
   "pygments_lexer": "ipython3",
   "version": "3.7.1"
  }
 },
 "nbformat": 4,
 "nbformat_minor": 4
}
