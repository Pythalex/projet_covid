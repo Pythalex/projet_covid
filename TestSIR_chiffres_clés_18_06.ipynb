{
 "cells": [
  {
   "cell_type": "code",
   "execution_count": 1,
   "metadata": {},
   "outputs": [],
   "source": [
    "import config\n",
    "import visual.plot as vplot\n",
    "from model.sirmodel import SIRModel\n",
    "\n",
    "import pandas as pd\n",
    "import numpy as np\n",
    "import matplotlib.pyplot as plt\n",
    "import scipy"
   ]
  },
  {
   "cell_type": "code",
   "execution_count": 2,
   "metadata": {},
   "outputs": [
    {
     "data": {
      "text/html": [
       "<div>\n",
       "<style scoped>\n",
       "    .dataframe tbody tr th:only-of-type {\n",
       "        vertical-align: middle;\n",
       "    }\n",
       "\n",
       "    .dataframe tbody tr th {\n",
       "        vertical-align: top;\n",
       "    }\n",
       "\n",
       "    .dataframe thead th {\n",
       "        text-align: right;\n",
       "    }\n",
       "</style>\n",
       "<table border=\"1\" class=\"dataframe\">\n",
       "  <thead>\n",
       "    <tr style=\"text-align: right;\">\n",
       "      <th></th>\n",
       "      <th>Unnamed: 0</th>\n",
       "      <th>date</th>\n",
       "      <th>granularite</th>\n",
       "      <th>maille_code</th>\n",
       "      <th>maille_nom</th>\n",
       "      <th>cas_confirmes</th>\n",
       "      <th>cas_ehpad</th>\n",
       "      <th>cas_confirmes_ehpad</th>\n",
       "      <th>cas_possibles_ehpad</th>\n",
       "      <th>deces</th>\n",
       "      <th>...</th>\n",
       "      <th>hospitalises</th>\n",
       "      <th>nouvelles_hospitalisations</th>\n",
       "      <th>nouvelles_reanimations</th>\n",
       "      <th>gueris</th>\n",
       "      <th>depistes</th>\n",
       "      <th>source_nom</th>\n",
       "      <th>source_url</th>\n",
       "      <th>source_archive</th>\n",
       "      <th>source_type</th>\n",
       "      <th>susceptible</th>\n",
       "    </tr>\n",
       "  </thead>\n",
       "  <tbody>\n",
       "    <tr>\n",
       "      <th>136</th>\n",
       "      <td>136</td>\n",
       "      <td>2020-06-13</td>\n",
       "      <td>pays</td>\n",
       "      <td>FRA</td>\n",
       "      <td>France</td>\n",
       "      <td>156813.0</td>\n",
       "      <td>NaN</td>\n",
       "      <td>37599.0</td>\n",
       "      <td>NaN</td>\n",
       "      <td>19014.0</td>\n",
       "      <td>...</td>\n",
       "      <td>10909.0</td>\n",
       "      <td>68.0</td>\n",
       "      <td>14.0</td>\n",
       "      <td>72808.0</td>\n",
       "      <td>NaN</td>\n",
       "      <td>Ministère des Solidarités et de la Santé</td>\n",
       "      <td>NaN</td>\n",
       "      <td>NaN</td>\n",
       "      <td>ministere-sante</td>\n",
       "      <td>66751365.0</td>\n",
       "    </tr>\n",
       "    <tr>\n",
       "      <th>137</th>\n",
       "      <td>137</td>\n",
       "      <td>2020-06-14</td>\n",
       "      <td>pays</td>\n",
       "      <td>FRA</td>\n",
       "      <td>France</td>\n",
       "      <td>157220.0</td>\n",
       "      <td>NaN</td>\n",
       "      <td>37599.0</td>\n",
       "      <td>NaN</td>\n",
       "      <td>19023.0</td>\n",
       "      <td>...</td>\n",
       "      <td>10881.0</td>\n",
       "      <td>33.0</td>\n",
       "      <td>6.0</td>\n",
       "      <td>72859.0</td>\n",
       "      <td>NaN</td>\n",
       "      <td>Ministère des Solidarités et de la Santé</td>\n",
       "      <td>NaN</td>\n",
       "      <td>NaN</td>\n",
       "      <td>ministere-sante</td>\n",
       "      <td>66750898.0</td>\n",
       "    </tr>\n",
       "    <tr>\n",
       "      <th>138</th>\n",
       "      <td>138</td>\n",
       "      <td>2020-06-15</td>\n",
       "      <td>pays</td>\n",
       "      <td>FRA</td>\n",
       "      <td>France</td>\n",
       "      <td>157372.0</td>\n",
       "      <td>NaN</td>\n",
       "      <td>37599.0</td>\n",
       "      <td>NaN</td>\n",
       "      <td>19052.0</td>\n",
       "      <td>...</td>\n",
       "      <td>10752.0</td>\n",
       "      <td>114.0</td>\n",
       "      <td>12.0</td>\n",
       "      <td>73044.0</td>\n",
       "      <td>NaN</td>\n",
       "      <td>Ministère des Solidarités et de la Santé</td>\n",
       "      <td>NaN</td>\n",
       "      <td>NaN</td>\n",
       "      <td>ministere-sante</td>\n",
       "      <td>66750532.0</td>\n",
       "    </tr>\n",
       "    <tr>\n",
       "      <th>139</th>\n",
       "      <td>139</td>\n",
       "      <td>2020-06-16</td>\n",
       "      <td>pays</td>\n",
       "      <td>FRA</td>\n",
       "      <td>France</td>\n",
       "      <td>157716.0</td>\n",
       "      <td>NaN</td>\n",
       "      <td>37901.0</td>\n",
       "      <td>NaN</td>\n",
       "      <td>19090.0</td>\n",
       "      <td>...</td>\n",
       "      <td>10535.0</td>\n",
       "      <td>143.0</td>\n",
       "      <td>14.0</td>\n",
       "      <td>73335.0</td>\n",
       "      <td>NaN</td>\n",
       "      <td>Ministère des Solidarités et de la Santé</td>\n",
       "      <td>NaN</td>\n",
       "      <td>NaN</td>\n",
       "      <td>ministere-sante</td>\n",
       "      <td>66749859.0</td>\n",
       "    </tr>\n",
       "    <tr>\n",
       "      <th>140</th>\n",
       "      <td>140</td>\n",
       "      <td>2020-06-17</td>\n",
       "      <td>pays</td>\n",
       "      <td>FRA</td>\n",
       "      <td>France</td>\n",
       "      <td>158174.0</td>\n",
       "      <td>NaN</td>\n",
       "      <td>37901.0</td>\n",
       "      <td>NaN</td>\n",
       "      <td>19118.0</td>\n",
       "      <td>...</td>\n",
       "      <td>10267.0</td>\n",
       "      <td>116.0</td>\n",
       "      <td>14.0</td>\n",
       "      <td>73667.0</td>\n",
       "      <td>NaN</td>\n",
       "      <td>Ministère des Solidarités et de la Santé</td>\n",
       "      <td>NaN</td>\n",
       "      <td>NaN</td>\n",
       "      <td>ministere-sante</td>\n",
       "      <td>66749041.0</td>\n",
       "    </tr>\n",
       "  </tbody>\n",
       "</table>\n",
       "<p>5 rows × 22 columns</p>\n",
       "</div>"
      ],
      "text/plain": [
       "     Unnamed: 0        date granularite maille_code maille_nom  cas_confirmes  \\\n",
       "136         136  2020-06-13        pays         FRA     France       156813.0   \n",
       "137         137  2020-06-14        pays         FRA     France       157220.0   \n",
       "138         138  2020-06-15        pays         FRA     France       157372.0   \n",
       "139         139  2020-06-16        pays         FRA     France       157716.0   \n",
       "140         140  2020-06-17        pays         FRA     France       158174.0   \n",
       "\n",
       "     cas_ehpad  cas_confirmes_ehpad  cas_possibles_ehpad    deces  ...  \\\n",
       "136        NaN              37599.0                  NaN  19014.0  ...   \n",
       "137        NaN              37599.0                  NaN  19023.0  ...   \n",
       "138        NaN              37599.0                  NaN  19052.0  ...   \n",
       "139        NaN              37901.0                  NaN  19090.0  ...   \n",
       "140        NaN              37901.0                  NaN  19118.0  ...   \n",
       "\n",
       "     hospitalises  nouvelles_hospitalisations  nouvelles_reanimations  \\\n",
       "136       10909.0                        68.0                    14.0   \n",
       "137       10881.0                        33.0                     6.0   \n",
       "138       10752.0                       114.0                    12.0   \n",
       "139       10535.0                       143.0                    14.0   \n",
       "140       10267.0                       116.0                    14.0   \n",
       "\n",
       "      gueris  depistes                                source_nom  source_url  \\\n",
       "136  72808.0       NaN  Ministère des Solidarités et de la Santé         NaN   \n",
       "137  72859.0       NaN  Ministère des Solidarités et de la Santé         NaN   \n",
       "138  73044.0       NaN  Ministère des Solidarités et de la Santé         NaN   \n",
       "139  73335.0       NaN  Ministère des Solidarités et de la Santé         NaN   \n",
       "140  73667.0       NaN  Ministère des Solidarités et de la Santé         NaN   \n",
       "\n",
       "    source_archive      source_type susceptible  \n",
       "136            NaN  ministere-sante  66751365.0  \n",
       "137            NaN  ministere-sante  66750898.0  \n",
       "138            NaN  ministere-sante  66750532.0  \n",
       "139            NaN  ministere-sante  66749859.0  \n",
       "140            NaN  ministere-sante  66749041.0  \n",
       "\n",
       "[5 rows x 22 columns]"
      ]
     },
     "execution_count": 2,
     "metadata": {},
     "output_type": "execute_result"
    }
   ],
   "source": [
    "df = pd.read_csv(\"data/covid/france/evolution_par_jour_18_06.csv\", sep=\",\")\n",
    "df.tail()"
   ]
  },
  {
   "cell_type": "code",
   "execution_count": 3,
   "metadata": {},
   "outputs": [],
   "source": [
    "df = df[df[\"date\"] < \"2020-04-01\"]"
   ]
  },
  {
   "cell_type": "markdown",
   "metadata": {},
   "source": [
    "## Fit"
   ]
  },
  {
   "cell_type": "code",
   "execution_count": 4,
   "metadata": {},
   "outputs": [],
   "source": [
    "sir = SIRModel(N=67000000, R0=0, I0=df.loc[0, \"cas_confirmes\"])"
   ]
  },
  {
   "cell_type": "code",
   "execution_count": 5,
   "metadata": {},
   "outputs": [
    {
     "name": "stderr",
     "output_type": "stream",
     "text": [
      "d:\\dev\\projects\\projet_sdd\\venv\\lib\\site-packages\\scipy\\integrate\\odepack.py:248: ODEintWarning: Excess work done on this call (perhaps wrong Dfun type). Run with full_output = 1 to get quantitative information.\n",
      "  warnings.warn(warning_msg, ODEintWarning)\n"
     ]
    },
    {
     "name": "stdout",
     "output_type": "stream",
     "text": [
      "[3.49639779 3.33149102]\n"
     ]
    },
    {
     "data": {
      "text/plain": [
       "<model.sirmodel.SIRModel at 0x546ec10>"
      ]
     },
     "execution_count": 5,
     "metadata": {},
     "output_type": "execute_result"
    }
   ],
   "source": [
    "t = range(df.shape[0])\n",
    "sir.fit(t, df[\"cas_confirmes\"])"
   ]
  },
  {
   "cell_type": "markdown",
   "metadata": {},
   "source": [
    "## Predict"
   ]
  },
  {
   "cell_type": "code",
   "execution_count": 6,
   "metadata": {},
   "outputs": [],
   "source": [
    "# Integrate the SIR equations over the time grid, t.\n",
    "t = range(100)\n",
    "S, I, R = sir.predict(t)"
   ]
  },
  {
   "cell_type": "code",
   "execution_count": 7,
   "metadata": {},
   "outputs": [
    {
     "data": {
      "text/plain": [
       "<matplotlib.axes._subplots.AxesSubplot at 0x2364baa8>"
      ]
     },
     "execution_count": 7,
     "metadata": {},
     "output_type": "execute_result"
    },
    {
     "data": {
      "image/png": "[encoded data removed]",
      "text/plain": [
       "<Figure size 432x288 with 1 Axes>"
      ]
     },
     "metadata": {},
     "output_type": "display_data"
    }
   ],
   "source": [
    "vplot.plot_SIR(S, I, R, t)\n",
    "df[\"cas_confirmes\"].plot()"
   ]
  },
  {
   "cell_type": "code",
   "execution_count": 8,
   "metadata": {},
   "outputs": [
    {
     "data": {
      "text/plain": [
       "<matplotlib.axes._subplots.AxesSubplot at 0x24749988>"
      ]
     },
     "execution_count": 8,
     "metadata": {},
     "output_type": "execute_result"
    },
    {
     "data": {
      "image/png": "[encoded data removed]",
      "text/plain": [
       "<Figure size 432x288 with 1 Axes>"
      ]
     },
     "metadata": {},
     "output_type": "display_data"
    }
   ],
   "source": [
    "vplot.plot_SIR(S=None, I=I, R=None, t=t) # only I\n",
    "df[\"cas_confirmes\"].plot()"
   ]
  }
 ],
 "metadata": {
  "kernelspec": {
   "display_name": "Python 3",
   "language": "python",
   "name": "python3"
  },
  "language_info": {
   "codemirror_mode": {
    "name": "ipython",
    "version": 3
   },
   "file_extension": ".py",
   "mimetype": "text/x-python",
   "name": "python",
   "nbconvert_exporter": "python",
   "pygments_lexer": "ipython3",
   "version": "3.8.2"
  }
 },
 "nbformat": 4,
 "nbformat_minor": 4
}
