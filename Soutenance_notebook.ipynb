{
 "cells": [
  {
   "cell_type": "markdown",
   "metadata": {},
   "source": [
    "# Projet science des données - étude de cas Covid\n",
    "\n",
    "![](https://www.lamanchelibre.fr/photos/maxi/863569.jpg)"
   ]
  },
  {
   "cell_type": "markdown",
   "metadata": {},
   "source": [
    "### Objectif \n",
    "\n",
    "L'objectif va être de modéliser l'évolution du nombre d'infectés de sorte à pouvoir prédire le nombre de cas de covid en France dans le futur."
   ]
  },
  {
   "cell_type": "markdown",
   "metadata": {},
   "source": [
    "On souhaite créer des modèles from scratch !\n",
    "\n",
    "| | |\n",
    "| --- | --- |\n",
    "| ![image_scikit](https://i.imgur.com/FbbGOq7.png) | ![Model SIR](https://media.springernature.com/lw685/springer-static/image/art%3A10.1186%2Fs12859-017-1643-7/MediaObjects/12859_2017_1643_Fig3_HTML.gif) |"
   ]
  },
  {
   "cell_type": "markdown",
   "metadata": {},
   "source": [
    "### Les sources de données :"
   ]
  },
  {
   "cell_type": "markdown",
   "metadata": {},
   "source": [
    "- Récupérer des données épidémiologiques françaises\n",
    "\n",
    "![data gouv](https://i.imgur.com/NTe0B3D.png)"
   ]
  },
  {
   "cell_type": "markdown",
   "metadata": {},
   "source": [
    " "
   ]
  },
  {
   "cell_type": "markdown",
   "metadata": {},
   "source": [
    "- Etude du premier dataset\n",
    "\n",
    "https://www.data.gouv.fr/fr/datasets/donnees-hospitalieres-relatives-a-lepidemie-de-covid-19/\n",
    "\n",
    "| | |\n",
    "| --- | --- |\n",
    "| ![santepubliquefrance](https://i.imgur.com/IOnEl5Y.png) | ![image.png](https://i.imgur.com/4u8RxFi.png) |\n",
    "\n",
    "Ces données sont relatives aux hospitalisations seulement, on souhaite les chiffres d'infections !"
   ]
  },
  {
   "cell_type": "markdown",
   "metadata": {},
   "source": [
    " "
   ]
  },
  {
   "cell_type": "markdown",
   "metadata": {},
   "source": [
    " "
   ]
  },
  {
   "cell_type": "markdown",
   "metadata": {},
   "source": [
    " "
   ]
  },
  {
   "cell_type": "markdown",
   "metadata": {},
   "source": [
    "- Deuxième dataset : Cas en france \n",
    "\n",
    "https://www.data.gouv.fr/fr/datasets/chiffres-cles-concernant-lepidemie-de-covid19-en-france/\n",
    "\n",
    "| | |\n",
    "| --- | --- |\n",
    "| ![opencovid](https://i.imgur.com/9k9rjwB.png) | ![sources](https://i.imgur.com/CgCqoMn.png) |\n",
    "| ![donnees_exploration](https://i.imgur.com/baG7ouJ.png) | ![nbcas](https://i.imgur.com/cUUr9rk.png) |"
   ]
  },
  {
   "cell_type": "markdown",
   "metadata": {},
   "source": [
    " "
   ]
  },
  {
   "cell_type": "markdown",
   "metadata": {},
   "source": [
    "### Exploration des données"
   ]
  },
  {
   "cell_type": "markdown",
   "metadata": {},
   "source": [
    "#### Premier aperçu\n",
    "\n",
    "| | |\n",
    "| --- | --- |\n",
    "| ![columns](https://i.imgur.com/hbFxRHm.png) |![first row](https://i.imgur.com/hqCm4tw.png) |"
   ]
  },
  {
   "cell_type": "markdown",
   "metadata": {},
   "source": [
    " "
   ]
  },
  {
   "cell_type": "markdown",
   "metadata": {},
   "source": [
    "#### Nettoyage\n",
    "\n",
    "![cleaning](https://i.imgur.com/SY3KgwV.png)\n",
    "\n",
    "<br/><br/>\n",
    "\n",
    "![conflict](https://i.imgur.com/UpU2j2J.png)\n",
    "\n",
    "<br/><br/>\n",
    "\n",
    "![trous](https://i.imgur.com/SrVYvtf.png)\n",
    "\n",
    "<br/><br/>\n",
    "\n",
    "![filled](https://i.imgur.com/pQlJ5hh.png)"
   ]
  },
  {
   "cell_type": "markdown",
   "metadata": {},
   "source": [
    " "
   ]
  },
  {
   "cell_type": "markdown",
   "metadata": {},
   "source": [
    "#### Modèle SIR\n",
    "\n",
    "Le modèle SIR se base sur deux paramètres :\n",
    "- Le taux d'infection\n",
    "- La vitesse de guérison\n",
    "\n",
    "De ces deux paramètres on calcule des variables S, I, R (d'où le nom) qui représentent:\n",
    "- S : le nombre de gens sains qui peuvent être infectés\n",
    "- I : Le nombre d'infectés\n",
    "- R : Le nombre de gens sains soignés immunisés"
   ]
  },
  {
   "cell_type": "markdown",
   "metadata": {},
   "source": [
    "### Premiers tests avec le modèle SIR"
   ]
  },
  {
   "cell_type": "markdown",
   "metadata": {},
   "source": [
    "Autodictatisme sur la modélisation SIR/SEIR via les posts de blog : \n",
    "\n",
    "https://towardsdatascience.com/infectious-disease-modelling-part-i-understanding-sir-28d60e29fdfc\n",
    "\n",
    "https://towardsdatascience.com/infectious-disease-modelling-beyond-the-basic-sir-model-216369c584c4"
   ]
  },
  {
   "cell_type": "markdown",
   "metadata": {},
   "source": [
    "#### curve fit\n",
    "\n",
    "![](https://fr.mathworks.com/help/examples/curvefit/win64/EvaluateCurveFitExample_01.png)"
   ]
  },
  {
   "cell_type": "markdown",
   "metadata": {},
   "source": [
    "#### Application du SIR au données covid\n",
    "\n",
    "![model_sir_test](https://i.imgur.com/JhABFLA.png)\n",
    "\n",
    "On colle bien sur les données avec une restrictions aux données pré-confinement + incubation (< 1er Avril 2020).\n",
    "\n",
    "Si on met à jour les données jusqu'au 18 juin 2020, on observe que le modèle SIR performance beaucoup moins bien.\n",
    "\n",
    "![model_sir_updated](https://i.imgur.com/HGtcA8R.png)"
   ]
  },
  {
   "cell_type": "markdown",
   "metadata": {},
   "source": [
    "#### modèle SEIR\n",
    "\n",
    "Avec le modèle SEIR on ajoute une notion d'incubation. Une personne ne passe plus de l'état S à l'état I directement, mais passe par un état temporaire E (exposed) qui représente une infection non contagieuse. On ajoute ainsi un paramètre à calculer $\\delta$ représentant le temps d'incubation.\n",
    "\n",
    "###### Préconfinement\n",
    "\n",
    "![image.png](https://i.imgur.com/XROTfz6.png)\n",
    "\n",
    "###### Postconfinement\n",
    "\n",
    "![image.png](https://i.imgur.com/2Ssju65.png)\n",
    "\n",
    "L'ajout du concept d'incubation n'apporte pas de meilleure performance pour la modélisation des infectés."
   ]
  },
  {
   "cell_type": "markdown",
   "metadata": {},
   "source": [
    "### Conclusion - Nouveau besoin (ouverture)"
   ]
  },
  {
   "cell_type": "markdown",
   "metadata": {},
   "source": [
    "L'impossibilité de modéliser les infectés pendant le confinement revèle une nécessité de pouvoir faire varier $\\beta$ (le taux d'infection) au cours du temps. C'est-à-dire, prendre en compte la baisse du taux d'infection lors du confinement. Sans cette variable temporelle, il sera impossible de prédire correctement le nombre d'infectés."
   ]
  },
  {
   "cell_type": "markdown",
   "metadata": {},
   "source": [
    "On doit donc passer d'une modélisation $\\beta$, $\\gamma$, $\\delta$ à $\\beta(t)$, $\\gamma$, $\\delta$ "
   ]
  },
  {
   "cell_type": "markdown",
   "metadata": {},
   "source": [
    "https://towardsdatascience.com/infectious-disease-modelling-fit-your-model-to-coronavirus-data-2568e672dbc7\n",
    "\n",
    "![](https://i.imgur.com/6mpCd1H.png)"
   ]
  },
  {
   "cell_type": "code",
   "execution_count": null,
   "metadata": {},
   "outputs": [],
   "source": []
  }
 ],
 "metadata": {
  "kernelspec": {
   "display_name": "Python 3",
   "language": "python",
   "name": "python3"
  },
  "language_info": {
   "codemirror_mode": {
    "name": "ipython",
    "version": 3
   },
   "file_extension": ".py",
   "mimetype": "text/x-python",
   "name": "python",
   "nbconvert_exporter": "python",
   "pygments_lexer": "ipython3",
   "version": "3.7.1"
  }
 },
 "nbformat": 4,
 "nbformat_minor": 4
}
