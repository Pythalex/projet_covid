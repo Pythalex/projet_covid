{
 "cells": [
  {
   "cell_type": "markdown",
   "metadata": {},
   "source": [
    "## Imports"
   ]
  },
  {
   "cell_type": "code",
   "execution_count": 1,
   "metadata": {
    "colab": {},
    "colab_type": "code",
    "id": "1k2EMEIl-Ylq"
   },
   "outputs": [],
   "source": [
    "import config\n",
    "import utils.cleaning as cl\n",
    "import visual.plot as vplot\n",
    "\n",
    "import pandas as pd\n",
    "import numpy as np\n",
    "import matplotlib.pyplot as plt\n",
    "import math"
   ]
  },
  {
   "cell_type": "code",
   "execution_count": 2,
   "metadata": {
    "colab": {},
    "colab_type": "code",
    "id": "KQxAtD8W-Yly"
   },
   "outputs": [],
   "source": [
    "df = pd.read_csv(\"data/covid/france/chiffres-cles-18-06.csv\", sep=\",\")"
   ]
  },
  {
   "cell_type": "code",
   "execution_count": 3,
   "metadata": {
    "colab": {
     "base_uri": "https://localhost:8080/",
     "height": 109
    },
    "colab_type": "code",
    "id": "2XCx4mIW-Yl5",
    "outputId": "6ea51a53-d19f-4fc1-8b06-209fc8e60cdb"
   },
   "outputs": [
    {
     "data": {
      "text/plain": [
       "Index(['date', 'granularite', 'maille_code', 'maille_nom', 'cas_confirmes',\n",
       "       'cas_ehpad', 'cas_confirmes_ehpad', 'cas_possibles_ehpad', 'deces',\n",
       "       'deces_ehpad', 'reanimation', 'hospitalises',\n",
       "       'nouvelles_hospitalisations', 'nouvelles_reanimations', 'gueris',\n",
       "       'depistes', 'source_nom', 'source_url', 'source_archive',\n",
       "       'source_type'],\n",
       "      dtype='object')"
      ]
     },
     "execution_count": 3,
     "metadata": {},
     "output_type": "execute_result"
    }
   ],
   "source": [
    "df.columns"
   ]
  },
  {
   "cell_type": "code",
   "execution_count": 4,
   "metadata": {
    "colab": {
     "base_uri": "https://localhost:8080/",
     "height": 366
    },
    "colab_type": "code",
    "id": "vdInHuEN-YmA",
    "outputId": "01ce1ba0-767a-4a63-92a1-68d7a58aebd3"
   },
   "outputs": [
    {
     "data": {
      "text/plain": [
       "date                           object\n",
       "granularite                    object\n",
       "maille_code                    object\n",
       "maille_nom                     object\n",
       "cas_confirmes                 float64\n",
       "cas_ehpad                     float64\n",
       "cas_confirmes_ehpad           float64\n",
       "cas_possibles_ehpad           float64\n",
       "deces                         float64\n",
       "deces_ehpad                   float64\n",
       "reanimation                   float64\n",
       "hospitalises                  float64\n",
       "nouvelles_hospitalisations    float64\n",
       "nouvelles_reanimations        float64\n",
       "gueris                        float64\n",
       "depistes                      float64\n",
       "source_nom                     object\n",
       "source_url                     object\n",
       "source_archive                 object\n",
       "source_type                    object\n",
       "dtype: object"
      ]
     },
     "execution_count": 4,
     "metadata": {},
     "output_type": "execute_result"
    }
   ],
   "source": [
    "df.dtypes"
   ]
  },
  {
   "cell_type": "code",
   "execution_count": 19,
   "metadata": {},
   "outputs": [
    {
     "data": {
      "text/plain": [
       "date                                                                 2020-01-24\n",
       "granularite                                                                pays\n",
       "maille_code                                                                 FRA\n",
       "maille_nom                                                               France\n",
       "cas_confirmes                                                                 3\n",
       "cas_ehpad                                                                   NaN\n",
       "cas_confirmes_ehpad                                                         NaN\n",
       "cas_possibles_ehpad                                                         NaN\n",
       "deces                                                                         0\n",
       "deces_ehpad                                                                 NaN\n",
       "reanimation                                                                 NaN\n",
       "hospitalises                                                                  3\n",
       "nouvelles_hospitalisations                                                  NaN\n",
       "nouvelles_reanimations                                                      NaN\n",
       "gueris                                                                      NaN\n",
       "depistes                                                                    NaN\n",
       "source_nom                                                Santé publique France\n",
       "source_url                    https://www.santepubliquefrance.fr/maladies-et...\n",
       "source_archive                https://web.archive.org/web/20200124202351/htt...\n",
       "source_type                                               sante-publique-france\n",
       "Name: 13, dtype: object"
      ]
     },
     "execution_count": 19,
     "metadata": {},
     "output_type": "execute_result"
    }
   ],
   "source": [
    "df.iloc[0]"
   ]
  },
  {
   "cell_type": "markdown",
   "metadata": {},
   "source": [
    "## Cleaning"
   ]
  },
  {
   "cell_type": "code",
   "execution_count": 6,
   "metadata": {
    "colab": {
     "base_uri": "https://localhost:8080/",
     "height": 424
    },
    "colab_type": "code",
    "id": "2_U_NgSn-YmF",
    "outputId": "883e08f5-9a1d-42de-943f-9d6eb7d9cc14"
   },
   "outputs": [
    {
     "data": {
      "text/html": [
       "<div>\n",
       "<style scoped>\n",
       "    .dataframe tbody tr th:only-of-type {\n",
       "        vertical-align: middle;\n",
       "    }\n",
       "\n",
       "    .dataframe tbody tr th {\n",
       "        vertical-align: top;\n",
       "    }\n",
       "\n",
       "    .dataframe thead th {\n",
       "        text-align: right;\n",
       "    }\n",
       "</style>\n",
       "<table border=\"1\" class=\"dataframe\">\n",
       "  <thead>\n",
       "    <tr style=\"text-align: right;\">\n",
       "      <th></th>\n",
       "      <th>date</th>\n",
       "      <th>cas_confirmes</th>\n",
       "      <th>source_nom</th>\n",
       "    </tr>\n",
       "  </thead>\n",
       "  <tbody>\n",
       "    <tr>\n",
       "      <th>13</th>\n",
       "      <td>2020-01-24</td>\n",
       "      <td>3.0</td>\n",
       "      <td>Santé publique France</td>\n",
       "    </tr>\n",
       "    <tr>\n",
       "      <th>14</th>\n",
       "      <td>2020-01-24</td>\n",
       "      <td>3.0</td>\n",
       "      <td>Ministère des Solidarités et de la Santé</td>\n",
       "    </tr>\n",
       "    <tr>\n",
       "      <th>22</th>\n",
       "      <td>2020-01-25</td>\n",
       "      <td>3.0</td>\n",
       "      <td>Santé publique France</td>\n",
       "    </tr>\n",
       "    <tr>\n",
       "      <th>27</th>\n",
       "      <td>2020-01-26</td>\n",
       "      <td>3.0</td>\n",
       "      <td>Santé publique France</td>\n",
       "    </tr>\n",
       "    <tr>\n",
       "      <th>33</th>\n",
       "      <td>2020-01-27</td>\n",
       "      <td>3.0</td>\n",
       "      <td>Santé publique France</td>\n",
       "    </tr>\n",
       "    <tr>\n",
       "      <th>...</th>\n",
       "      <td>...</td>\n",
       "      <td>...</td>\n",
       "      <td>...</td>\n",
       "    </tr>\n",
       "    <tr>\n",
       "      <th>14020</th>\n",
       "      <td>2020-06-15</td>\n",
       "      <td>NaN</td>\n",
       "      <td>OpenCOVID19-fr</td>\n",
       "    </tr>\n",
       "    <tr>\n",
       "      <th>14140</th>\n",
       "      <td>2020-06-16</td>\n",
       "      <td>157716.0</td>\n",
       "      <td>Ministère des Solidarités et de la Santé</td>\n",
       "    </tr>\n",
       "    <tr>\n",
       "      <th>14141</th>\n",
       "      <td>2020-06-16</td>\n",
       "      <td>NaN</td>\n",
       "      <td>OpenCOVID19-fr</td>\n",
       "    </tr>\n",
       "    <tr>\n",
       "      <th>14261</th>\n",
       "      <td>2020-06-17</td>\n",
       "      <td>158174.0</td>\n",
       "      <td>Ministère des Solidarités et de la Santé</td>\n",
       "    </tr>\n",
       "    <tr>\n",
       "      <th>14262</th>\n",
       "      <td>2020-06-17</td>\n",
       "      <td>NaN</td>\n",
       "      <td>OpenCOVID19-fr</td>\n",
       "    </tr>\n",
       "  </tbody>\n",
       "</table>\n",
       "<p>273 rows × 3 columns</p>\n",
       "</div>"
      ],
      "text/plain": [
       "             date  cas_confirmes                                source_nom\n",
       "13     2020-01-24            3.0                     Santé publique France\n",
       "14     2020-01-24            3.0  Ministère des Solidarités et de la Santé\n",
       "22     2020-01-25            3.0                     Santé publique France\n",
       "27     2020-01-26            3.0                     Santé publique France\n",
       "33     2020-01-27            3.0                     Santé publique France\n",
       "...           ...            ...                                       ...\n",
       "14020  2020-06-15            NaN                            OpenCOVID19-fr\n",
       "14140  2020-06-16       157716.0  Ministère des Solidarités et de la Santé\n",
       "14141  2020-06-16            NaN                            OpenCOVID19-fr\n",
       "14261  2020-06-17       158174.0  Ministère des Solidarités et de la Santé\n",
       "14262  2020-06-17            NaN                            OpenCOVID19-fr\n",
       "\n",
       "[273 rows x 3 columns]"
      ]
     },
     "execution_count": 6,
     "metadata": {},
     "output_type": "execute_result"
    }
   ],
   "source": [
    "df = cl.keep_only_france(df)\n",
    "df[[\"date\", \"cas_confirmes\", \"source_nom\"]]"
   ]
  },
  {
   "cell_type": "markdown",
   "metadata": {
    "colab_type": "text",
    "id": "Rgt_mBAq-YmK"
   },
   "source": [
    "Il y a des valeurs NAN selon les sources, on souhaite savoir s'il y a des données conflictuelles"
   ]
  },
  {
   "cell_type": "code",
   "execution_count": 7,
   "metadata": {
    "colab": {
     "base_uri": "https://localhost:8080/",
     "height": 531
    },
    "colab_type": "code",
    "id": "T1uatF27-YmM",
    "outputId": "115bfc46-fd8b-49ab-c3b2-141e76950bbb"
   },
   "outputs": [
    {
     "name": "stdout",
     "output_type": "stream",
     "text": [
      "2020-02-07\n",
      "91    11.0\n",
      "92     6.0\n",
      "Name: cas_confirmes, dtype: float64\n",
      "2020-02-25\n",
      "157    12.0\n",
      "158    14.0\n",
      "Name: cas_confirmes, dtype: float64\n",
      "2020-02-26\n",
      "170    17.0\n",
      "171    18.0\n",
      "Name: cas_confirmes, dtype: float64\n",
      "2020-02-28\n",
      "194    38.0\n",
      "195    57.0\n",
      "Name: cas_confirmes, dtype: float64\n",
      "2020-02-29\n",
      "231     73.0\n",
      "232    100.0\n",
      "Name: cas_confirmes, dtype: float64\n",
      "2020-03-02\n",
      "270    178.0\n",
      "271    191.0\n",
      "Name: cas_confirmes, dtype: float64\n",
      "2020-03-14\n",
      "1603    4499.0\n",
      "1604    4500.0\n",
      "Name: cas_confirmes, dtype: float64\n"
     ]
    }
   ],
   "source": [
    "cl.print_conflictual_information(df)"
   ]
  },
  {
   "cell_type": "markdown",
   "metadata": {
    "colab_type": "text",
    "id": "c-bsviHt-YmR"
   },
   "source": [
    "On trouve quelques cas conflictuels. Pour résoudre le souci on prendra la valeur maximum des deux à chaque fois. On supprime donc toutes les lignes à cas confirmes NAN, et pour les cas à plusieurs sources on prendra la première."
   ]
  },
  {
   "cell_type": "code",
   "execution_count": 8,
   "metadata": {
    "colab": {},
    "colab_type": "code",
    "id": "dkzoeFgs-YmV"
   },
   "outputs": [],
   "source": [
    "cas_confirmes_df = cl.drop_NA_confirmed_cases(df)"
   ]
  },
  {
   "cell_type": "code",
   "execution_count": 9,
   "metadata": {
    "colab": {},
    "colab_type": "code",
    "id": "4BW2CTE--YmZ"
   },
   "outputs": [],
   "source": [
    "evolution_par_jour = cl.keep_only_first_row_by_date(cas_confirmes_df)"
   ]
  },
  {
   "cell_type": "code",
   "execution_count": 10,
   "metadata": {},
   "outputs": [],
   "source": [
    "evolution_par_jour = cas_confirmes_df.groupby(\"date\", as_index=False).first()"
   ]
  },
  {
   "cell_type": "markdown",
   "metadata": {},
   "source": [
    "On calcule la colonne de la population non malade."
   ]
  },
  {
   "cell_type": "code",
   "execution_count": 11,
   "metadata": {
    "colab": {},
    "colab_type": "code",
    "id": "cDlZyT78DUbQ"
   },
   "outputs": [],
   "source": [
    "population_FR = 67000000\n",
    "evolution_par_jour[\"susceptible\"] = population_FR - (evolution_par_jour[\"cas_confirmes\"] +\\\n",
    "                                                     evolution_par_jour[\"deces\"] + evolution_par_jour[\"gueris\"])"
   ]
  },
  {
   "cell_type": "markdown",
   "metadata": {},
   "source": [
    "## Plots"
   ]
  },
  {
   "cell_type": "code",
   "execution_count": 12,
   "metadata": {
    "colab": {
     "base_uri": "https://localhost:8080/",
     "height": 297
    },
    "colab_type": "code",
    "id": "DqJi6CzSB3X_",
    "outputId": "d20d6eb1-9d33-42a5-a9bc-29be89ed217e"
   },
   "outputs": [
    {
     "data": {
      "text/plain": [
       "<matplotlib.axes._subplots.AxesSubplot at 0x147b1808>"
      ]
     },
     "execution_count": 12,
     "metadata": {},
     "output_type": "execute_result"
    },
    {
     "data": {
      "image/png": "[encoded data removed]",
      "text/plain": [
       "<Figure size 432x288 with 1 Axes>"
      ]
     },
     "metadata": {
      "needs_background": "light"
     },
     "output_type": "display_data"
    }
   ],
   "source": [
    "vplot.plot_CDG(evolution_par_jour)"
   ]
  },
  {
   "cell_type": "markdown",
   "metadata": {},
   "source": [
    "Il y a encore des valeurs NAN dans la colonne des guéris, d'où les petits trous par endroits."
   ]
  },
  {
   "cell_type": "code",
   "execution_count": 13,
   "metadata": {},
   "outputs": [],
   "source": [
    "evolution_par_jour = cl.interpolate_nan(evolution_par_jour, \"gueris\")"
   ]
  },
  {
   "cell_type": "code",
   "execution_count": 14,
   "metadata": {},
   "outputs": [
    {
     "data": {
      "text/plain": [
       "<matplotlib.axes._subplots.AxesSubplot at 0x1484e0a0>"
      ]
     },
     "execution_count": 14,
     "metadata": {},
     "output_type": "execute_result"
    },
    {
     "data": {
      "image/png": "[encoded data removed]",
      "text/plain": [
       "<Figure size 432x288 with 1 Axes>"
      ]
     },
     "metadata": {
      "needs_background": "light"
     },
     "output_type": "display_data"
    }
   ],
   "source": [
    "vplot.plot_CDG(evolution_par_jour)"
   ]
  },
  {
   "cell_type": "markdown",
   "metadata": {},
   "source": [
    "### plot type model SIR"
   ]
  },
  {
   "cell_type": "code",
   "execution_count": 15,
   "metadata": {
    "colab": {
     "base_uri": "https://localhost:8080/",
     "height": 570
    },
    "colab_type": "code",
    "id": "fnHFNhh2HSCi",
    "outputId": "29ab29ef-3ccf-4fc0-f066-b6c4ee008318"
   },
   "outputs": [
    {
     "data": {
      "text/plain": [
       "<matplotlib.axes._subplots.AxesSubplot at 0x148eee80>"
      ]
     },
     "execution_count": 15,
     "metadata": {},
     "output_type": "execute_result"
    },
    {
     "data": {
      "image/png": "[encoded data removed]",
      "text/plain": [
       "<Figure size 432x288 with 1 Axes>"
      ]
     },
     "metadata": {
      "needs_background": "light"
     },
     "output_type": "display_data"
    },
    {
     "data": {
      "image/png": "[encoded data removed]",
      "text/plain": [
       "<Figure size 432x288 with 1 Axes>"
      ]
     },
     "metadata": {
      "needs_background": "light"
     },
     "output_type": "display_data"
    }
   ],
   "source": [
    "vplot.plot_SCDG(evolution_par_jour)\n",
    "vplot.plot_SCDG(evolution_par_jour, logy=True)"
   ]
  },
  {
   "cell_type": "markdown",
   "metadata": {},
   "source": [
    "La proportion de malades par rapport à la population totale est trop petite pour voir une évolution comme un modèle SIR classique."
   ]
  },
  {
   "cell_type": "markdown",
   "metadata": {},
   "source": [
    "## export csv"
   ]
  },
  {
   "cell_type": "code",
   "execution_count": 16,
   "metadata": {
    "colab": {},
    "colab_type": "code",
    "id": "JYhF94bGCykO"
   },
   "outputs": [],
   "source": [
    "evolution_par_jour.to_csv(\"data/covid/france/evolution_par_jour_18_06.csv\")"
   ]
  }
 ],
 "metadata": {
  "colab": {
   "collapsed_sections": [],
   "name": "Copie de exploration_chiffres_cles.ipynb",
   "provenance": []
  },
  "kernelspec": {
   "display_name": "Python 3",
   "language": "python",
   "name": "python3"
  },
  "language_info": {
   "codemirror_mode": {
    "name": "ipython",
    "version": 3
   },
   "file_extension": ".py",
   "mimetype": "text/x-python",
   "name": "python",
   "nbconvert_exporter": "python",
   "pygments_lexer": "ipython3",
   "version": "3.8.2"
  }
 },
 "nbformat": 4,
 "nbformat_minor": 1
}
