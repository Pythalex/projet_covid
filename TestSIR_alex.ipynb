{
 "cells": [
  {
   "cell_type": "code",
   "execution_count": 15,
   "metadata": {},
   "outputs": [],
   "source": [
    "import config\n",
    "import pandas as pd\n",
    "import numpy as np\n",
    "import matplotlib.pyplot as plt"
   ]
  },
  {
   "cell_type": "code",
   "execution_count": 16,
   "metadata": {},
   "outputs": [],
   "source": [
    "class SIRModel():\n",
    "    \"\"\"\n",
    "    Cette classe représente une modélisation SIR épidémiologique.\n",
    "    Les paramètres du modèles sont beta et gamma dont les valeurs initiales sont données à\n",
    "    l'instanciation de la classe.\n",
    "    \n",
    "    beta = taux de contact (vitesse de la propagation de la maladie)\n",
    "    gamma = moyenne de temps de guérison (vitesse de guérison de la maladie)\n",
    "    \"\"\"\n",
    "    def __init__(self, beta_init=0.1, gamma_init=0.3):\n",
    "        self.beta_0 = beta_init\n",
    "        self.gamma_0 = gamma_init\n",
    "        self.beta_ = None\n",
    "        self.gamma_ = None\n",
    "\n",
    "\n",
    "    def fit(self, X, y):\n",
    "        \"\"\"\n",
    "        Ajuste les paramètres beta et gamma du modèle sur le jeu de données d'entrée.\n",
    "        \n",
    "        Returns:\n",
    "            self for method chaining.\n",
    "        \"\"\"\n",
    "        self.beta_ = self.beta_0\n",
    "        self.gamma_ = self.gamma_0\n",
    "        return self\n",
    "\n",
    "\n",
    "    def predict(self, t):\n",
    "        \"\"\"\n",
    "        Predict the S I R values for given time\n",
    "        TODO : defines values\n",
    "        \"\"\"\n",
    "        if self.beta_ is None or self.gamma_ is None:\n",
    "            raise Exception(\"SIRModel not fitted\")\n",
    "        return S, I, R\n",
    "    \n",
    "    \n",
    "    def deriv(self, y, t, N, beta, gamma):\n",
    "        S, I, R = y\n",
    "        dSdt = -beta * S * I / N\n",
    "        dIdt = beta * S * I / N - gamma * I\n",
    "        dRdt = gamma * I\n",
    "        return dSdt, dIdt, dRdt"
   ]
  },
  {
   "cell_type": "code",
   "execution_count": 19,
   "metadata": {},
   "outputs": [],
   "source": [
    "df = pd.read_csv(\"data/covid/france/hospitalisations/donnees-hospitalieres-covid19-2020-05-05-19h00.csv\", sep=\";\")"
   ]
  },
  {
   "cell_type": "code",
   "execution_count": 24,
   "metadata": {},
   "outputs": [
    {
     "data": {
      "text/html": [
       "<div>\n",
       "<style scoped>\n",
       "    .dataframe tbody tr th:only-of-type {\n",
       "        vertical-align: middle;\n",
       "    }\n",
       "\n",
       "    .dataframe tbody tr th {\n",
       "        vertical-align: top;\n",
       "    }\n",
       "\n",
       "    .dataframe thead th {\n",
       "        text-align: right;\n",
       "    }\n",
       "</style>\n",
       "<table border=\"1\" class=\"dataframe\">\n",
       "  <thead>\n",
       "    <tr style=\"text-align: right;\">\n",
       "      <th></th>\n",
       "      <th>hosp</th>\n",
       "      <th>rea</th>\n",
       "      <th>rad</th>\n",
       "      <th>dc</th>\n",
       "    </tr>\n",
       "    <tr>\n",
       "      <th>jour</th>\n",
       "      <th></th>\n",
       "      <th></th>\n",
       "      <th></th>\n",
       "      <th></th>\n",
       "    </tr>\n",
       "  </thead>\n",
       "  <tbody>\n",
       "    <tr>\n",
       "      <th>2020-05-01</th>\n",
       "      <td>25809</td>\n",
       "      <td>3819</td>\n",
       "      <td>50204</td>\n",
       "      <td>15350</td>\n",
       "    </tr>\n",
       "    <tr>\n",
       "      <th>2020-05-02</th>\n",
       "      <td>25751</td>\n",
       "      <td>3770</td>\n",
       "      <td>50554</td>\n",
       "      <td>15468</td>\n",
       "    </tr>\n",
       "    <tr>\n",
       "      <th>2020-05-03</th>\n",
       "      <td>25739</td>\n",
       "      <td>3762</td>\n",
       "      <td>50776</td>\n",
       "      <td>15564</td>\n",
       "    </tr>\n",
       "    <tr>\n",
       "      <th>2020-05-04</th>\n",
       "      <td>25472</td>\n",
       "      <td>3639</td>\n",
       "      <td>51363</td>\n",
       "      <td>15807</td>\n",
       "    </tr>\n",
       "    <tr>\n",
       "      <th>2020-05-05</th>\n",
       "      <td>24701</td>\n",
       "      <td>3375</td>\n",
       "      <td>52728</td>\n",
       "      <td>16041</td>\n",
       "    </tr>\n",
       "  </tbody>\n",
       "</table>\n",
       "</div>"
      ],
      "text/plain": [
       "             hosp   rea    rad     dc\n",
       "jour                                 \n",
       "2020-05-01  25809  3819  50204  15350\n",
       "2020-05-02  25751  3770  50554  15468\n",
       "2020-05-03  25739  3762  50776  15564\n",
       "2020-05-04  25472  3639  51363  15807\n",
       "2020-05-05  24701  3375  52728  16041"
      ]
     },
     "execution_count": 24,
     "metadata": {},
     "output_type": "execute_result"
    }
   ],
   "source": [
    "cas_france_par_jour = df[df[\"sexe\"] == 0][[\"jour\", \"hosp\", \"rea\", \"rad\", \"dc\"]].groupby(\"jour\").sum()\n",
    "cas_france_par_jour.tail()"
   ]
  },
  {
   "cell_type": "markdown",
   "metadata": {},
   "source": [
    "Données covid France par https://www.gouvernement.fr/info-coronavirus/carte-et-donnees rapportées par google (daté du 6 mai)\n",
    "![données covid](https://i.gyazo.com/c34aad6a5535bd5589ceec964a1480e3.png)\n",
    "\n",
    "On retrouve le même nombre de guérison. On observe cependant une différence notable entre les nombres de décès. Pour les \"cas confirmés\", on ne peut pas le comparer au nombre d'hospitalisations et de retour au domicile.\n",
    "\n",
    "On estime finalement le nombre d'infections avec le nombre d'hospitalisations et de réanimation. On note déjà des problèmes avec cette modélisation:\n",
    "- Des gens peuvent être infectés sans avoir été testés\n",
    "- Les gens hospitalisés ne seront a priori pas en contact avec la grande partie de la population\n",
    "- L'immunisation des guéris du covid n'est pas encore connue\n",
    "\n",
    "Néanmoins il doit rester possible d'ajuster les paramètres SIR à l'évolution actuelle du nombre d'infectés."
   ]
  },
  {
   "cell_type": "code",
   "execution_count": 26,
   "metadata": {},
   "outputs": [
    {
     "data": {
      "text/html": [
       "<div>\n",
       "<style scoped>\n",
       "    .dataframe tbody tr th:only-of-type {\n",
       "        vertical-align: middle;\n",
       "    }\n",
       "\n",
       "    .dataframe tbody tr th {\n",
       "        vertical-align: top;\n",
       "    }\n",
       "\n",
       "    .dataframe thead th {\n",
       "        text-align: right;\n",
       "    }\n",
       "</style>\n",
       "<table border=\"1\" class=\"dataframe\">\n",
       "  <thead>\n",
       "    <tr style=\"text-align: right;\">\n",
       "      <th></th>\n",
       "      <th>hosp</th>\n",
       "      <th>rea</th>\n",
       "      <th>rad</th>\n",
       "      <th>dc</th>\n",
       "      <th>infectés</th>\n",
       "    </tr>\n",
       "    <tr>\n",
       "      <th>jour</th>\n",
       "      <th></th>\n",
       "      <th></th>\n",
       "      <th></th>\n",
       "      <th></th>\n",
       "      <th></th>\n",
       "    </tr>\n",
       "  </thead>\n",
       "  <tbody>\n",
       "    <tr>\n",
       "      <th>2020-03-18</th>\n",
       "      <td>2972</td>\n",
       "      <td>771</td>\n",
       "      <td>816</td>\n",
       "      <td>218</td>\n",
       "      <td>3743</td>\n",
       "    </tr>\n",
       "    <tr>\n",
       "      <th>2020-03-19</th>\n",
       "      <td>4073</td>\n",
       "      <td>1002</td>\n",
       "      <td>1180</td>\n",
       "      <td>327</td>\n",
       "      <td>5075</td>\n",
       "    </tr>\n",
       "    <tr>\n",
       "      <th>2020-03-20</th>\n",
       "      <td>5226</td>\n",
       "      <td>1297</td>\n",
       "      <td>1587</td>\n",
       "      <td>450</td>\n",
       "      <td>6523</td>\n",
       "    </tr>\n",
       "    <tr>\n",
       "      <th>2020-03-21</th>\n",
       "      <td>5900</td>\n",
       "      <td>1453</td>\n",
       "      <td>1811</td>\n",
       "      <td>525</td>\n",
       "      <td>7353</td>\n",
       "    </tr>\n",
       "    <tr>\n",
       "      <th>2020-03-22</th>\n",
       "      <td>6954</td>\n",
       "      <td>1674</td>\n",
       "      <td>2117</td>\n",
       "      <td>632</td>\n",
       "      <td>8628</td>\n",
       "    </tr>\n",
       "  </tbody>\n",
       "</table>\n",
       "</div>"
      ],
      "text/plain": [
       "            hosp   rea   rad   dc  infectés\n",
       "jour                                       \n",
       "2020-03-18  2972   771   816  218      3743\n",
       "2020-03-19  4073  1002  1180  327      5075\n",
       "2020-03-20  5226  1297  1587  450      6523\n",
       "2020-03-21  5900  1453  1811  525      7353\n",
       "2020-03-22  6954  1674  2117  632      8628"
      ]
     },
     "execution_count": 26,
     "metadata": {},
     "output_type": "execute_result"
    }
   ],
   "source": [
    "cas_france_par_jour[\"infectés\"] = cas_france_par_jour[\"hosp\"] + cas_france_par_jour[\"rea\"]\n",
    "cas_france_par_jour.head()"
   ]
  },
  {
   "cell_type": "code",
   "execution_count": 29,
   "metadata": {},
   "outputs": [
    {
     "data": {
      "text/plain": [
       "Text(0.5, 1.0, \"évolution du nombre d'hospitalisations en France\")"
      ]
     },
     "execution_count": 29,
     "metadata": {},
     "output_type": "execute_result"
    },
    {
     "data": {
      "image/png": "[encoded data removed]",
      "text/plain": [
       "<Figure size 432x288 with 1 Axes>"
      ]
     },
     "metadata": {
      "needs_background": "light"
     },
     "output_type": "display_data"
    }
   ],
   "source": [
    "cas_france_par_jour[\"infectés\"].plot()\n",
    "plt.ylabel(\"nombre d'infectés\")\n",
    "plt.title(\"évolution du nombre d'hospitalisations en France\")"
   ]
  },
  {
   "cell_type": "markdown",
   "metadata": {},
   "source": [
    "On voit que le nombre d'hospitalisations a commencé à baisser à partir de de mi avril. La courbe des hospitalisations ne peut donc pas être correctement utilisée comme une courbe du nombre d'infectés (cela impliquerait que la France soit déjà en stade de fin d'épidémie). Ce jeu de données n'est pas adapté pour une modélisation SIR.\n",
    "\n",
    "(Il est technique possible de fitter un modèle SIR sur cette courbe, cela dit, bien que cela n'ait pas de pertinence particulière)."
   ]
  },
  {
   "cell_type": "code",
   "execution_count": 30,
   "metadata": {},
   "outputs": [],
   "source": [
    "# work in progress :)"
   ]
  }
 ],
 "metadata": {
  "kernelspec": {
   "display_name": "Python 3",
   "language": "python",
   "name": "python3"
  },
  "language_info": {
   "codemirror_mode": {
    "name": "ipython",
    "version": 3
   },
   "file_extension": ".py",
   "mimetype": "text/x-python",
   "name": "python",
   "nbconvert_exporter": "python",
   "pygments_lexer": "ipython3",
   "version": "3.8.2"
  }
 },
 "nbformat": 4,
 "nbformat_minor": 4
}
