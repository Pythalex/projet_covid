{
 "cells": [
  {
   "cell_type": "code",
   "execution_count": 1,
   "metadata": {},
   "outputs": [],
   "source": [
    "import numpy\n",
    "import pandas\n",
    "import matplotlib"
   ]
  },
  {
   "cell_type": "code",
   "execution_count": 2,
   "metadata": {},
   "outputs": [],
   "source": [
    "class SIRModel():\n",
    "    \"\"\"\n",
    "    Cette classe représente une modélisation SIR épidémiologique.\n",
    "    Les paramètres du modèles sont beta et gamma dont les valeurs initiales sont données à\n",
    "    l'instanciation de la classe.\n",
    "    \"\"\"\n",
    "    def __init__(self, beta_init=0.1, gamma_init=0.3):\n",
    "        self.beta_0 = beta_init\n",
    "        self.gamma_0 = gamma_init\n",
    "        self.beta_ = None\n",
    "        self.gamma_ = None\n",
    "\n",
    "\n",
    "    def fit(self, X, y):\n",
    "        \"\"\"\n",
    "        Ajuste les paramètres beta et gamma du modèle sur le jeu de données d'entrée.\n",
    "        \n",
    "        Returns:\n",
    "            self for method chaining.\n",
    "        \"\"\"\n",
    "        return self\n",
    "\n",
    "\n",
    "    def predict(self, t):\n",
    "        \"\"\"\n",
    "        Predict the S I R values for given time\n",
    "        TODO : defines values\n",
    "        \"\"\"\n",
    "        return S, I, R"
   ]
  },
  {
   "cell_type": "code",
   "execution_count": null,
   "metadata": {},
   "outputs": [],
   "source": []
  }
 ],
 "metadata": {
  "kernelspec": {
   "display_name": "Python 3",
   "language": "python",
   "name": "python3"
  },
  "language_info": {
   "codemirror_mode": {
    "name": "ipython",
    "version": 3
   },
   "file_extension": ".py",
   "mimetype": "text/x-python",
   "name": "python",
   "nbconvert_exporter": "python",
   "pygments_lexer": "ipython3",
   "version": "3.8.2"
  }
 },
 "nbformat": 4,
 "nbformat_minor": 4
}
