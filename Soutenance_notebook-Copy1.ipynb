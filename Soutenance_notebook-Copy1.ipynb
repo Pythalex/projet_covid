{
 "cells": [
  {
   "cell_type": "markdown",
   "metadata": {},
   "source": [
    "[ECRAN TITRE]"
   ]
  },
  {
   "cell_type": "markdown",
   "metadata": {},
   "source": [
    "On souhaite créer des modèles from scratch !\n",
    "![image_scikit](https://i.imgur.com/FbbGOq7.png)"
   ]
  },
  {
   "cell_type": "markdown",
   "metadata": {},
   "source": [
    "##### Le modèle SIR\n",
    "\n",
    "![Model SIR](https://media.springernature.com/lw685/springer-static/image/art%3A10.1186%2Fs12859-017-1643-7/MediaObjects/12859_2017_1643_Fig3_HTML.gif)"
   ]
  },
  {
   "cell_type": "markdown",
   "metadata": {},
   "source": [
    "### Le plan :"
   ]
  },
  {
   "cell_type": "markdown",
   "metadata": {},
   "source": [
    "- Récupérer des données épidémiologiques françaises\n",
    "\n",
    "|  |  |\n",
    "| --- | --- |\n",
    "| ![data gouv](https://i.imgur.com/NTe0B3D.png) | ![opendata](https://i.imgur.com/9k9rjwB.png) |"
   ]
  },
  {
   "cell_type": "markdown",
   "metadata": {},
   "source": [
    " "
   ]
  },
  {
   "cell_type": "markdown",
   "metadata": {},
   "source": [
    " "
   ]
  },
  {
   "cell_type": "markdown",
   "metadata": {},
   "source": [
    " "
   ]
  },
  {
   "attachments": {},
   "cell_type": "markdown",
   "metadata": {},
   "source": [
    "- Etude du premier dataset\n",
    "\n",
    "https://www.data.gouv.fr/fr/datasets/donnees-hospitalieres-relatives-a-lepidemie-de-covid-19/\n",
    "\n",
    "| | |\n",
    "| --- | --- |\n",
    "| ![santepubliquefrance](https://i.imgur.com/IOnEl5Y.png) | ![image.png](https://i.imgur.com/4u8RxFi.png) |\n",
    "\n",
    "Ces données sont relatives aux hospitalisations seulement, on souhaite les chiffres d'infections !"
   ]
  },
  {
   "cell_type": "markdown",
   "metadata": {},
   "source": [
    " "
   ]
  },
  {
   "cell_type": "markdown",
   "metadata": {},
   "source": [
    " "
   ]
  },
  {
   "cell_type": "markdown",
   "metadata": {},
   "source": [
    " "
   ]
  },
  {
   "attachments": {},
   "cell_type": "markdown",
   "metadata": {},
   "source": [
    "- Deuxième dataset : Cas en france \n",
    "\n",
    "https://www.data.gouv.fr/fr/datasets/chiffres-cles-concernant-lepidemie-de-covid19-en-france/\n",
    "\n",
    "| | |\n",
    "| --- | --- |\n",
    "| ![opencovid](https://i.imgur.com/9k9rjwB.png) | ![sources](https://i.imgur.com/CgCqoMn.png) |\n",
    "| ![donnees_exploration](https://i.imgur.com/baG7ouJ.png) | ![nbcas](https://i.imgur.com/cUUr9rk.png) |"
   ]
  },
  {
   "cell_type": "markdown",
   "metadata": {},
   "source": [
    " "
   ]
  },
  {
   "cell_type": "markdown",
   "metadata": {},
   "source": [
    " "
   ]
  },
  {
   "cell_type": "markdown",
   "metadata": {},
   "source": [
    " "
   ]
  },
  {
   "cell_type": "markdown",
   "metadata": {},
   "source": [
    "### Premiers tests avec le modèle SIR"
   ]
  },
  {
   "cell_type": "markdown",
   "metadata": {},
   "source": [
    "Autodictatisme sur la modélisation SIR/SEIR via les posts de blog : \n",
    "\n",
    "https://towardsdatascience.com/infectious-disease-modelling-part-i-understanding-sir-28d60e29fdfc\n",
    "\n",
    "https://towardsdatascience.com/infectious-disease-modelling-beyond-the-basic-sir-model-216369c584c4"
   ]
  },
  {
   "cell_type": "markdown",
   "metadata": {},
   "source": [
    "#### modèle SIR\n",
    "\n",
    "Le modèle SIR se base sur deux paramètres :\n",
    "- Le taux d'infection\n",
    "- La vitesse de guérison\n",
    "\n",
    "De ces deux paramètres on calcule des variables S, I, R (d'où le nom) qui représentent:\n",
    "- S : le nombre de gens sains qui peuvent être infectés\n",
    "- I : Le nombre d'infectés\n",
    "- R : Le nombre de gens sains soignés immunisés"
   ]
  },
  {
   "cell_type": "markdown",
   "metadata": {},
   "source": [
    "Le principe va donc être de calculer les deux paramètres, qu'on appelle $\\beta$ (le taux d'infection) et $\\gamma$ (la vitesse de guérison). On calcule ces paramètres de sorte à ce que l'évolution des variables S, I, R (donnée par les équations du modèle SIR) collent aux données réelles.\n",
    "\n",
    "Toute la pertinence du modèle vient des variables prises en compte, et de leur calcul. Le modèle SIR ne prendra pas en compte les infectés non contagieux, les évolutions du taux d'infections (confinement), de la vitesse de guérison."
   ]
  },
  {
   "cell_type": "markdown",
   "metadata": {},
   "source": [
    "![model_sir_test](https://i.imgur.com/JhABFLA.png)\n",
    "\n",
    "On colle bien sur les données avec une restrictions aux données pré-confinement + incubation (< 1er Avril 2020).\n",
    "\n",
    "Si on met à jour les données jusqu'au 18 juin 2020, on observe que le modèle SIR performance beaucoup moins bien.\n",
    "\n",
    "![model_sir_updated](https://i.imgur.com/HGtcA8R.png)"
   ]
  },
  {
   "cell_type": "code",
   "execution_count": null,
   "metadata": {},
   "outputs": [],
   "source": []
  }
 ],
 "metadata": {
  "kernelspec": {
   "display_name": "Python 3",
   "language": "python",
   "name": "python3"
  },
  "language_info": {
   "codemirror_mode": {
    "name": "ipython",
    "version": 3
   },
   "file_extension": ".py",
   "mimetype": "text/x-python",
   "name": "python",
   "nbconvert_exporter": "python",
   "pygments_lexer": "ipython3",
   "version": "3.8.2"
  }
 },
 "nbformat": 4,
 "nbformat_minor": 4
}
