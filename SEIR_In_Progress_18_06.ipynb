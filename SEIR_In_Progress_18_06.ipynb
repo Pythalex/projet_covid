{
 "cells": [
  {
   "cell_type": "code",
   "execution_count": 1,
   "metadata": {},
   "outputs": [],
   "source": [
    "import config\n",
    "import pandas as pd\n",
    "import numpy as np\n",
    "import matplotlib.pyplot as plt\n",
    "import scipy\n",
    "import numpy as np\n",
    "from scipy.integrate import odeint\n",
    "import matplotlib.pyplot as plt"
   ]
  },
  {
   "cell_type": "code",
   "execution_count": 2,
   "metadata": {},
   "outputs": [
    {
     "data": {
      "text/html": [
       "<div>\n",
       "<style scoped>\n",
       "    .dataframe tbody tr th:only-of-type {\n",
       "        vertical-align: middle;\n",
       "    }\n",
       "\n",
       "    .dataframe tbody tr th {\n",
       "        vertical-align: top;\n",
       "    }\n",
       "\n",
       "    .dataframe thead th {\n",
       "        text-align: right;\n",
       "    }\n",
       "</style>\n",
       "<table border=\"1\" class=\"dataframe\">\n",
       "  <thead>\n",
       "    <tr style=\"text-align: right;\">\n",
       "      <th></th>\n",
       "      <th>Unnamed: 0</th>\n",
       "      <th>date</th>\n",
       "      <th>granularite</th>\n",
       "      <th>maille_code</th>\n",
       "      <th>maille_nom</th>\n",
       "      <th>cas_confirmes</th>\n",
       "      <th>cas_ehpad</th>\n",
       "      <th>cas_confirmes_ehpad</th>\n",
       "      <th>cas_possibles_ehpad</th>\n",
       "      <th>deces</th>\n",
       "      <th>...</th>\n",
       "      <th>hospitalises</th>\n",
       "      <th>nouvelles_hospitalisations</th>\n",
       "      <th>nouvelles_reanimations</th>\n",
       "      <th>gueris</th>\n",
       "      <th>depistes</th>\n",
       "      <th>source_nom</th>\n",
       "      <th>source_url</th>\n",
       "      <th>source_archive</th>\n",
       "      <th>source_type</th>\n",
       "      <th>susceptible</th>\n",
       "    </tr>\n",
       "  </thead>\n",
       "  <tbody>\n",
       "    <tr>\n",
       "      <th>136</th>\n",
       "      <td>136</td>\n",
       "      <td>2020-06-13</td>\n",
       "      <td>pays</td>\n",
       "      <td>FRA</td>\n",
       "      <td>France</td>\n",
       "      <td>156813.0</td>\n",
       "      <td>NaN</td>\n",
       "      <td>37599.0</td>\n",
       "      <td>NaN</td>\n",
       "      <td>19014.0</td>\n",
       "      <td>...</td>\n",
       "      <td>10909.0</td>\n",
       "      <td>68.0</td>\n",
       "      <td>14.0</td>\n",
       "      <td>72808.0</td>\n",
       "      <td>NaN</td>\n",
       "      <td>Ministère des Solidarités et de la Santé</td>\n",
       "      <td>NaN</td>\n",
       "      <td>NaN</td>\n",
       "      <td>ministere-sante</td>\n",
       "      <td>66751365.0</td>\n",
       "    </tr>\n",
       "    <tr>\n",
       "      <th>137</th>\n",
       "      <td>137</td>\n",
       "      <td>2020-06-14</td>\n",
       "      <td>pays</td>\n",
       "      <td>FRA</td>\n",
       "      <td>France</td>\n",
       "      <td>157220.0</td>\n",
       "      <td>NaN</td>\n",
       "      <td>37599.0</td>\n",
       "      <td>NaN</td>\n",
       "      <td>19023.0</td>\n",
       "      <td>...</td>\n",
       "      <td>10881.0</td>\n",
       "      <td>33.0</td>\n",
       "      <td>6.0</td>\n",
       "      <td>72859.0</td>\n",
       "      <td>NaN</td>\n",
       "      <td>Ministère des Solidarités et de la Santé</td>\n",
       "      <td>NaN</td>\n",
       "      <td>NaN</td>\n",
       "      <td>ministere-sante</td>\n",
       "      <td>66750898.0</td>\n",
       "    </tr>\n",
       "    <tr>\n",
       "      <th>138</th>\n",
       "      <td>138</td>\n",
       "      <td>2020-06-15</td>\n",
       "      <td>pays</td>\n",
       "      <td>FRA</td>\n",
       "      <td>France</td>\n",
       "      <td>157372.0</td>\n",
       "      <td>NaN</td>\n",
       "      <td>37599.0</td>\n",
       "      <td>NaN</td>\n",
       "      <td>19052.0</td>\n",
       "      <td>...</td>\n",
       "      <td>10752.0</td>\n",
       "      <td>114.0</td>\n",
       "      <td>12.0</td>\n",
       "      <td>73044.0</td>\n",
       "      <td>NaN</td>\n",
       "      <td>Ministère des Solidarités et de la Santé</td>\n",
       "      <td>NaN</td>\n",
       "      <td>NaN</td>\n",
       "      <td>ministere-sante</td>\n",
       "      <td>66750532.0</td>\n",
       "    </tr>\n",
       "    <tr>\n",
       "      <th>139</th>\n",
       "      <td>139</td>\n",
       "      <td>2020-06-16</td>\n",
       "      <td>pays</td>\n",
       "      <td>FRA</td>\n",
       "      <td>France</td>\n",
       "      <td>157716.0</td>\n",
       "      <td>NaN</td>\n",
       "      <td>37901.0</td>\n",
       "      <td>NaN</td>\n",
       "      <td>19090.0</td>\n",
       "      <td>...</td>\n",
       "      <td>10535.0</td>\n",
       "      <td>143.0</td>\n",
       "      <td>14.0</td>\n",
       "      <td>73335.0</td>\n",
       "      <td>NaN</td>\n",
       "      <td>Ministère des Solidarités et de la Santé</td>\n",
       "      <td>NaN</td>\n",
       "      <td>NaN</td>\n",
       "      <td>ministere-sante</td>\n",
       "      <td>66749859.0</td>\n",
       "    </tr>\n",
       "    <tr>\n",
       "      <th>140</th>\n",
       "      <td>140</td>\n",
       "      <td>2020-06-17</td>\n",
       "      <td>pays</td>\n",
       "      <td>FRA</td>\n",
       "      <td>France</td>\n",
       "      <td>158174.0</td>\n",
       "      <td>NaN</td>\n",
       "      <td>37901.0</td>\n",
       "      <td>NaN</td>\n",
       "      <td>19118.0</td>\n",
       "      <td>...</td>\n",
       "      <td>10267.0</td>\n",
       "      <td>116.0</td>\n",
       "      <td>14.0</td>\n",
       "      <td>73667.0</td>\n",
       "      <td>NaN</td>\n",
       "      <td>Ministère des Solidarités et de la Santé</td>\n",
       "      <td>NaN</td>\n",
       "      <td>NaN</td>\n",
       "      <td>ministere-sante</td>\n",
       "      <td>66749041.0</td>\n",
       "    </tr>\n",
       "  </tbody>\n",
       "</table>\n",
       "<p>5 rows × 22 columns</p>\n",
       "</div>"
      ],
      "text/plain": [
       "     Unnamed: 0        date granularite maille_code maille_nom  cas_confirmes  \\\n",
       "136         136  2020-06-13        pays         FRA     France       156813.0   \n",
       "137         137  2020-06-14        pays         FRA     France       157220.0   \n",
       "138         138  2020-06-15        pays         FRA     France       157372.0   \n",
       "139         139  2020-06-16        pays         FRA     France       157716.0   \n",
       "140         140  2020-06-17        pays         FRA     France       158174.0   \n",
       "\n",
       "     cas_ehpad  cas_confirmes_ehpad  cas_possibles_ehpad    deces  ...  \\\n",
       "136        NaN              37599.0                  NaN  19014.0  ...   \n",
       "137        NaN              37599.0                  NaN  19023.0  ...   \n",
       "138        NaN              37599.0                  NaN  19052.0  ...   \n",
       "139        NaN              37901.0                  NaN  19090.0  ...   \n",
       "140        NaN              37901.0                  NaN  19118.0  ...   \n",
       "\n",
       "     hospitalises  nouvelles_hospitalisations  nouvelles_reanimations  \\\n",
       "136       10909.0                        68.0                    14.0   \n",
       "137       10881.0                        33.0                     6.0   \n",
       "138       10752.0                       114.0                    12.0   \n",
       "139       10535.0                       143.0                    14.0   \n",
       "140       10267.0                       116.0                    14.0   \n",
       "\n",
       "      gueris  depistes                                source_nom  source_url  \\\n",
       "136  72808.0       NaN  Ministère des Solidarités et de la Santé         NaN   \n",
       "137  72859.0       NaN  Ministère des Solidarités et de la Santé         NaN   \n",
       "138  73044.0       NaN  Ministère des Solidarités et de la Santé         NaN   \n",
       "139  73335.0       NaN  Ministère des Solidarités et de la Santé         NaN   \n",
       "140  73667.0       NaN  Ministère des Solidarités et de la Santé         NaN   \n",
       "\n",
       "    source_archive      source_type susceptible  \n",
       "136            NaN  ministere-sante  66751365.0  \n",
       "137            NaN  ministere-sante  66750898.0  \n",
       "138            NaN  ministere-sante  66750532.0  \n",
       "139            NaN  ministere-sante  66749859.0  \n",
       "140            NaN  ministere-sante  66749041.0  \n",
       "\n",
       "[5 rows x 22 columns]"
      ]
     },
     "execution_count": 2,
     "metadata": {},
     "output_type": "execute_result"
    }
   ],
   "source": [
    "df = pd.read_csv(\"data/covid/france/evolution_par_jour_18_06.csv\", sep=\",\")\n",
    "df.tail()"
   ]
  },
  {
   "cell_type": "code",
   "execution_count": 3,
   "metadata": {},
   "outputs": [],
   "source": [
    "df = df[df[\"date\"] < \"2020-04-01\"]"
   ]
  },
  {
   "cell_type": "code",
   "execution_count": 4,
   "metadata": {},
   "outputs": [],
   "source": [
    "f = lambda x, param : param*x**2 # la fonction\n",
    "param_x = 0 # le paramètre à trouver\n",
    "xrange = list(range(10)) # le nombre de valeurs tests\n",
    "mesdonnees = [f(i, 2) for i in xrange] # les valeurs tests"
   ]
  },
  {
   "cell_type": "code",
   "execution_count": 5,
   "metadata": {},
   "outputs": [
    {
     "name": "stdout",
     "output_type": "stream",
     "text": [
      "paramètres = [2.], covariances = [[0.]]\n"
     ]
    }
   ],
   "source": [
    "params, covariance = scipy.optimize.curve_fit(f, xrange, mesdonnees) # fit\n",
    "print(f\"paramètres = {params}, covariances = {covariance}\")"
   ]
  },
  {
   "cell_type": "code",
   "execution_count": 6,
   "metadata": {},
   "outputs": [],
   "source": [
    "def deriv(y, t, N, beta, gamma, delta):\n",
    "    S, E, I, R = y\n",
    "    dSdt = -beta * S * I / N\n",
    "    dEdt = beta * S * I / N - delta * E\n",
    "    dIdt = delta * E - gamma * I\n",
    "    dRdt = gamma * I\n",
    "    return dSdt, dEdt, dIdt, dRdt"
   ]
  },
  {
   "cell_type": "markdown",
   "metadata": {},
   "source": [
    "### Test curve fit sur les données covid (SEIR)"
   ]
  },
  {
   "cell_type": "code",
   "execution_count": 7,
   "metadata": {},
   "outputs": [],
   "source": [
    "# Total population, N.\n",
    "N = 67000000\n",
    "# Initial number of infected and recovered individuals, I0 and R0.\n",
    "E0, I0, R0 = 1, 3, 0\n",
    "# Everyone else, S0, is susceptible to infection initially.\n",
    "S0 = N - I0 - R0 - E0\n",
    "# A grid of time points (in days)\n",
    "t = np.linspace(0, 80)\n",
    "\n",
    "# Initial conditions vector\n",
    "y0 = S0, E0, I0, R0"
   ]
  },
  {
   "cell_type": "code",
   "execution_count": 8,
   "metadata": {},
   "outputs": [
    {
     "name": "stderr",
     "output_type": "stream",
     "text": [
      "d:\\dev\\projects\\projet_sdd\\venv\\lib\\site-packages\\scipy\\integrate\\odepack.py:248: ODEintWarning: Excess work done on this call (perhaps wrong Dfun type). Run with full_output = 1 to get quantitative information.\n",
      "  warnings.warn(warning_msg, ODEintWarning)\n"
     ]
    },
    {
     "name": "stdout",
     "output_type": "stream",
     "text": [
      "paramètres = [1.08933554 0.91435778 9.06309574], covariances = [[0.00030247 0.00034021 0.0033618 ]\n",
      " [0.00034021 0.00040015 0.00192685]\n",
      " [0.0033618  0.00192685 0.23537667]]\n"
     ]
    }
   ],
   "source": [
    "f = lambda t, beta, gamma, delta : (odeint(deriv, y0, t, args=(N, beta, gamma, delta)).T)[2] # [2] = only Infected\n",
    "params, covariance = scipy.optimize.curve_fit(f, range(df.shape[0]), df[\"cas_confirmes\"]) # fit\n",
    "print(f\"paramètres = {params}, covariances = {covariance}\")"
   ]
  },
  {
   "cell_type": "code",
   "execution_count": 9,
   "metadata": {
    "scrolled": true
   },
   "outputs": [],
   "source": [
    "beta = params[0]\n",
    "gamma = params[1]\n",
    "delta = params[2]"
   ]
  },
  {
   "cell_type": "code",
   "execution_count": 10,
   "metadata": {},
   "outputs": [
    {
     "data": {
      "image/png": "[encoded data removed]",
      "text/plain": [
       "<Figure size 432x288 with 1 Axes>"
      ]
     },
     "metadata": {},
     "output_type": "display_data"
    }
   ],
   "source": [
    "# Integrate the SIR equations over the time grid, t.\n",
    "ret = odeint(deriv, y0, t, args=(N, beta, gamma,delta))\n",
    "S, E, I, R = ret.T\n",
    "\n",
    "# Plot the data on three separate curves for S(t), I(t) and R(t)\n",
    "fig = plt.figure(facecolor='w')\n",
    "ax = fig.add_subplot(111, facecolor='#dddddd', axisbelow=True)\n",
    "#ax.plot(t, S, 'b', alpha=0.5, lw=2, label='Susceptible')\n",
    "ax.plot(t, I, 'r', alpha=0.5, lw=2, label='Infected')\n",
    "ax.plot(t, E, 'g', alpha=0.5, lw=2, label='Exposed')\n",
    "#ax.plot(t, R, 'g', alpha=0.5, lw=2, label='Recovered with immunity')\n",
    "ax.set_xlabel('Time /days')\n",
    "ax.set_ylabel('Number (1000s)')\n",
    "#ax.set_ylim(0,1.2)\n",
    "ax.yaxis.set_tick_params(length=0)\n",
    "ax.xaxis.set_tick_params(length=0)\n",
    "ax.grid(b=True, which='major', c='w', lw=2, ls='-')\n",
    "legend = ax.legend()\n",
    "legend.get_frame().set_alpha(0.5)\n",
    "for spine in ('top', 'right', 'bottom', 'left'):\n",
    "    ax.spines[spine].set_visible(False)\n",
    "    \n",
    "df[[\"cas_confirmes\", \"deces\"]].plot(ax=ax)\n",
    "\n",
    "#ax.set_xlim(0, 300)\n",
    "\n",
    "plt.show()"
   ]
  }
 ],
 "metadata": {
  "kernelspec": {
   "display_name": "Python 3",
   "language": "python",
   "name": "python3"
  },
  "language_info": {
   "codemirror_mode": {
    "name": "ipython",
    "version": 3
   },
   "file_extension": ".py",
   "mimetype": "text/x-python",
   "name": "python",
   "nbconvert_exporter": "python",
   "pygments_lexer": "ipython3",
   "version": "3.8.2"
  }
 },
 "nbformat": 4,
 "nbformat_minor": 4
}
