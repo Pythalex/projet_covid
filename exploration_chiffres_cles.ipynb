{
 "cells": [
  {
   "cell_type": "code",
   "execution_count": 17,
   "metadata": {
    "colab": {},
    "colab_type": "code",
    "id": "1k2EMEIl-Ylq"
   },
   "outputs": [],
   "source": [
    "import config\n",
    "import pandas as pd\n",
    "import numpy as np\n",
    "import matplotlib.pyplot as plt"
   ]
  },
  {
   "cell_type": "code",
   "execution_count": 18,
   "metadata": {
    "colab": {},
    "colab_type": "code",
    "id": "KQxAtD8W-Yly"
   },
   "outputs": [],
   "source": [
    "df = pd.read_csv(\"data/covid/france/chiffres-cles.csv\", sep=\",\")"
   ]
  },
  {
   "cell_type": "code",
   "execution_count": 19,
   "metadata": {
    "colab": {
     "base_uri": "https://localhost:8080/",
     "height": 109
    },
    "colab_type": "code",
    "id": "2XCx4mIW-Yl5",
    "outputId": "6ea51a53-d19f-4fc1-8b06-209fc8e60cdb"
   },
   "outputs": [
    {
     "data": {
      "text/plain": [
       "Index(['date', 'granularite', 'maille_code', 'maille_nom', 'cas_confirmes',\n",
       "       'cas_ehpad', 'cas_confirmes_ehpad', 'cas_possibles_ehpad', 'deces',\n",
       "       'deces_ehpad', 'reanimation', 'hospitalises', 'gueris', 'depistes',\n",
       "       'source_nom', 'source_url', 'source_archive', 'source_type'],\n",
       "      dtype='object')"
      ]
     },
     "execution_count": 19,
     "metadata": {},
     "output_type": "execute_result"
    }
   ],
   "source": [
    "df.columns"
   ]
  },
  {
   "cell_type": "code",
   "execution_count": 20,
   "metadata": {
    "colab": {
     "base_uri": "https://localhost:8080/",
     "height": 366
    },
    "colab_type": "code",
    "id": "vdInHuEN-YmA",
    "outputId": "01ce1ba0-767a-4a63-92a1-68d7a58aebd3"
   },
   "outputs": [
    {
     "data": {
      "text/plain": [
       "date                    object\n",
       "granularite             object\n",
       "maille_code             object\n",
       "maille_nom              object\n",
       "cas_confirmes          float64\n",
       "cas_ehpad              float64\n",
       "cas_confirmes_ehpad    float64\n",
       "cas_possibles_ehpad    float64\n",
       "deces                  float64\n",
       "deces_ehpad            float64\n",
       "reanimation            float64\n",
       "hospitalises           float64\n",
       "gueris                 float64\n",
       "depistes               float64\n",
       "source_nom              object\n",
       "source_url              object\n",
       "source_archive          object\n",
       "source_type             object\n",
       "dtype: object"
      ]
     },
     "execution_count": 20,
     "metadata": {},
     "output_type": "execute_result"
    }
   ],
   "source": [
    "df.dtypes"
   ]
  },
  {
   "cell_type": "code",
   "execution_count": 21,
   "metadata": {
    "colab": {
     "base_uri": "https://localhost:8080/",
     "height": 424
    },
    "colab_type": "code",
    "id": "2_U_NgSn-YmF",
    "outputId": "883e08f5-9a1d-42de-943f-9d6eb7d9cc14"
   },
   "outputs": [
    {
     "data": {
      "text/html": [
       "<div>\n",
       "<style scoped>\n",
       "    .dataframe tbody tr th:only-of-type {\n",
       "        vertical-align: middle;\n",
       "    }\n",
       "\n",
       "    .dataframe tbody tr th {\n",
       "        vertical-align: top;\n",
       "    }\n",
       "\n",
       "    .dataframe thead th {\n",
       "        text-align: right;\n",
       "    }\n",
       "</style>\n",
       "<table border=\"1\" class=\"dataframe\">\n",
       "  <thead>\n",
       "    <tr style=\"text-align: right;\">\n",
       "      <th></th>\n",
       "      <th>date</th>\n",
       "      <th>cas_confirmes</th>\n",
       "      <th>source_nom</th>\n",
       "    </tr>\n",
       "  </thead>\n",
       "  <tbody>\n",
       "    <tr>\n",
       "      <th>13</th>\n",
       "      <td>2020-01-24</td>\n",
       "      <td>3.0</td>\n",
       "      <td>Santé publique France</td>\n",
       "    </tr>\n",
       "    <tr>\n",
       "      <th>14</th>\n",
       "      <td>2020-01-24</td>\n",
       "      <td>3.0</td>\n",
       "      <td>Ministère des Solidarités et de la Santé</td>\n",
       "    </tr>\n",
       "    <tr>\n",
       "      <th>22</th>\n",
       "      <td>2020-01-25</td>\n",
       "      <td>3.0</td>\n",
       "      <td>Santé publique France</td>\n",
       "    </tr>\n",
       "    <tr>\n",
       "      <th>27</th>\n",
       "      <td>2020-01-26</td>\n",
       "      <td>3.0</td>\n",
       "      <td>Santé publique France</td>\n",
       "    </tr>\n",
       "    <tr>\n",
       "      <th>33</th>\n",
       "      <td>2020-01-27</td>\n",
       "      <td>3.0</td>\n",
       "      <td>Santé publique France</td>\n",
       "    </tr>\n",
       "    <tr>\n",
       "      <th>...</th>\n",
       "      <td>...</td>\n",
       "      <td>...</td>\n",
       "      <td>...</td>\n",
       "    </tr>\n",
       "    <tr>\n",
       "      <th>9664</th>\n",
       "      <td>2020-05-10</td>\n",
       "      <td>NaN</td>\n",
       "      <td>OpenCOVID19-fr</td>\n",
       "    </tr>\n",
       "    <tr>\n",
       "      <th>9784</th>\n",
       "      <td>2020-05-11</td>\n",
       "      <td>139519.0</td>\n",
       "      <td>Ministère des Solidarités et de la Santé</td>\n",
       "    </tr>\n",
       "    <tr>\n",
       "      <th>9785</th>\n",
       "      <td>2020-05-11</td>\n",
       "      <td>NaN</td>\n",
       "      <td>OpenCOVID19-fr</td>\n",
       "    </tr>\n",
       "    <tr>\n",
       "      <th>9905</th>\n",
       "      <td>2020-05-12</td>\n",
       "      <td>140227.0</td>\n",
       "      <td>Ministère des Solidarités et de la Santé</td>\n",
       "    </tr>\n",
       "    <tr>\n",
       "      <th>9906</th>\n",
       "      <td>2020-05-12</td>\n",
       "      <td>NaN</td>\n",
       "      <td>OpenCOVID19-fr</td>\n",
       "    </tr>\n",
       "  </tbody>\n",
       "</table>\n",
       "<p>201 rows × 3 columns</p>\n",
       "</div>"
      ],
      "text/plain": [
       "            date  cas_confirmes                                source_nom\n",
       "13    2020-01-24            3.0                     Santé publique France\n",
       "14    2020-01-24            3.0  Ministère des Solidarités et de la Santé\n",
       "22    2020-01-25            3.0                     Santé publique France\n",
       "27    2020-01-26            3.0                     Santé publique France\n",
       "33    2020-01-27            3.0                     Santé publique France\n",
       "...          ...            ...                                       ...\n",
       "9664  2020-05-10            NaN                            OpenCOVID19-fr\n",
       "9784  2020-05-11       139519.0  Ministère des Solidarités et de la Santé\n",
       "9785  2020-05-11            NaN                            OpenCOVID19-fr\n",
       "9905  2020-05-12       140227.0  Ministère des Solidarités et de la Santé\n",
       "9906  2020-05-12            NaN                            OpenCOVID19-fr\n",
       "\n",
       "[201 rows x 3 columns]"
      ]
     },
     "execution_count": 21,
     "metadata": {},
     "output_type": "execute_result"
    }
   ],
   "source": [
    "df[df[\"maille_code\"] == \"FRA\"][[\"date\", \"cas_confirmes\", \"source_nom\"]]"
   ]
  },
  {
   "cell_type": "markdown",
   "metadata": {
    "colab_type": "text",
    "id": "Rgt_mBAq-YmK"
   },
   "source": [
    "Il y a des valeurs NAN selon les sources, on souhaite savoir s'il y a des données conflictuelles"
   ]
  },
  {
   "cell_type": "code",
   "execution_count": 22,
   "metadata": {
    "colab": {
     "base_uri": "https://localhost:8080/",
     "height": 531
    },
    "colab_type": "code",
    "id": "T1uatF27-YmM",
    "outputId": "115bfc46-fd8b-49ab-c3b2-141e76950bbb"
   },
   "outputs": [
    {
     "name": "stdout",
     "output_type": "stream",
     "text": [
      "2020-02-07\n",
      "91    11.0\n",
      "92     6.0\n",
      "Name: cas_confirmes, dtype: float64\n",
      "2020-02-25\n",
      "157    12.0\n",
      "158    14.0\n",
      "Name: cas_confirmes, dtype: float64\n",
      "2020-02-26\n",
      "170    17.0\n",
      "171    18.0\n",
      "Name: cas_confirmes, dtype: float64\n",
      "2020-02-28\n",
      "194    38.0\n",
      "195    57.0\n",
      "Name: cas_confirmes, dtype: float64\n",
      "2020-02-29\n",
      "231     73.0\n",
      "232    100.0\n",
      "Name: cas_confirmes, dtype: float64\n",
      "2020-03-02\n",
      "270    178.0\n",
      "271    191.0\n",
      "Name: cas_confirmes, dtype: float64\n",
      "2020-03-14\n",
      "1603    4499.0\n",
      "1604    4500.0\n",
      "Name: cas_confirmes, dtype: float64\n"
     ]
    }
   ],
   "source": [
    "for d in df[\"date\"].unique():\n",
    "    s = df[np.logical_and(df[\"maille_code\"] == \"FRA\", df[\"date\"] == d)][\"cas_confirmes\"].dropna()\n",
    "    if s.size > 1:\n",
    "        if s.drop_duplicates().size > 1:\n",
    "            print(d)\n",
    "            print(s)"
   ]
  },
  {
   "cell_type": "markdown",
   "metadata": {
    "colab_type": "text",
    "id": "c-bsviHt-YmR"
   },
   "source": [
    "On trouve quelques cas conflictuels. Pour résoudre le souci on prendra la valeur maximum des deux à chaque fois. On supprime donc toutes les lignes à cas confirmes NAN, et pour les cas à plusieurs sources on prendra le max."
   ]
  },
  {
   "cell_type": "code",
   "execution_count": 37,
   "metadata": {
    "colab": {},
    "colab_type": "code",
    "id": "yDY4v-vJ-YmS"
   },
   "outputs": [],
   "source": [
    "# on ne s'intéresse qu'à la france entière pour l'instant\n",
    "df_copy = df.copy()\n",
    "df_copy = df_copy[df_copy[\"maille_code\"] == \"FRA\"]"
   ]
  },
  {
   "cell_type": "code",
   "execution_count": 38,
   "metadata": {
    "colab": {},
    "colab_type": "code",
    "id": "dkzoeFgs-YmV"
   },
   "outputs": [],
   "source": [
    "cas_confirmes_df = df_copy.drop(df_copy[df_copy[\"cas_confirmes\"].isna()].index)"
   ]
  },
  {
   "cell_type": "code",
   "execution_count": 39,
   "metadata": {
    "colab": {},
    "colab_type": "code",
    "id": "4BW2CTE--YmZ"
   },
   "outputs": [],
   "source": [
    "evolution_par_jour = cas_confirmes_df.groupby(\"date\", as_index=False).first()"
   ]
  },
  {
   "cell_type": "code",
   "execution_count": 40,
   "metadata": {
    "colab": {},
    "colab_type": "code",
    "id": "cDlZyT78DUbQ"
   },
   "outputs": [],
   "source": [
    "population_FR = 67000000\n",
    "evolution_par_jour[\"susceptible\"] = population_FR - (evolution_par_jour[\"cas_confirmes\"] + evolution_par_jour[\"deces\"] + evolution_par_jour[\"gueris\"])"
   ]
  },
  {
   "cell_type": "code",
   "execution_count": 43,
   "metadata": {
    "colab": {
     "base_uri": "https://localhost:8080/",
     "height": 297
    },
    "colab_type": "code",
    "id": "DqJi6CzSB3X_",
    "outputId": "d20d6eb1-9d33-42a5-a9bc-29be89ed217e"
   },
   "outputs": [
    {
     "data": {
      "text/plain": [
       "<matplotlib.axes._subplots.AxesSubplot at 0x178dd388>"
      ]
     },
     "execution_count": 43,
     "metadata": {},
     "output_type": "execute_result"
    },
    {
     "data": {
      "image/png": "[encoded data removed]",
      "text/plain": [
       "<Figure size 432x288 with 1 Axes>"
      ]
     },
     "metadata": {
      "needs_background": "light"
     },
     "output_type": "display_data"
    }
   ],
   "source": [
    "evolution_par_jour[[\"cas_confirmes\", \"deces\", \"gueris\"]].plot()"
   ]
  },
  {
   "cell_type": "code",
   "execution_count": 44,
   "metadata": {
    "colab": {
     "base_uri": "https://localhost:8080/",
     "height": 570
    },
    "colab_type": "code",
    "id": "fnHFNhh2HSCi",
    "outputId": "29ab29ef-3ccf-4fc0-f066-b6c4ee008318"
   },
   "outputs": [
    {
     "data": {
      "text/plain": [
       "<matplotlib.axes._subplots.AxesSubplot at 0x177b66e8>"
      ]
     },
     "execution_count": 44,
     "metadata": {},
     "output_type": "execute_result"
    },
    {
     "data": {
      "image/png": "[encoded data removed]",
      "text/plain": [
       "<Figure size 432x288 with 1 Axes>"
      ]
     },
     "metadata": {
      "needs_background": "light"
     },
     "output_type": "display_data"
    },
    {
     "data": {
      "image/png": "[encoded data removed]",
      "text/plain": [
       "<Figure size 432x288 with 1 Axes>"
      ]
     },
     "metadata": {
      "needs_background": "light"
     },
     "output_type": "display_data"
    }
   ],
   "source": [
    "evolution_par_jour[[\"susceptible\", \"cas_confirmes\", \"deces\", \"gueris\"]].plot()\n",
    "evolution_par_jour[[\"susceptible\", \"cas_confirmes\", \"deces\", \"gueris\"]].plot(logy=True)"
   ]
  },
  {
   "cell_type": "code",
   "execution_count": 45,
   "metadata": {
    "colab": {},
    "colab_type": "code",
    "id": "JYhF94bGCykO"
   },
   "outputs": [],
   "source": [
    "evolution_par_jour.to_csv(\"data/covid/france/evolution_par_jour.csv\")"
   ]
  },
  {
   "cell_type": "code",
   "execution_count": 46,
   "metadata": {},
   "outputs": [
    {
     "data": {
      "text/html": [
       "<div>\n",
       "<style scoped>\n",
       "    .dataframe tbody tr th:only-of-type {\n",
       "        vertical-align: middle;\n",
       "    }\n",
       "\n",
       "    .dataframe tbody tr th {\n",
       "        vertical-align: top;\n",
       "    }\n",
       "\n",
       "    .dataframe thead th {\n",
       "        text-align: right;\n",
       "    }\n",
       "</style>\n",
       "<table border=\"1\" class=\"dataframe\">\n",
       "  <thead>\n",
       "    <tr style=\"text-align: right;\">\n",
       "      <th></th>\n",
       "      <th>date</th>\n",
       "      <th>granularite</th>\n",
       "      <th>maille_code</th>\n",
       "      <th>maille_nom</th>\n",
       "      <th>cas_confirmes</th>\n",
       "      <th>cas_ehpad</th>\n",
       "      <th>cas_confirmes_ehpad</th>\n",
       "      <th>cas_possibles_ehpad</th>\n",
       "      <th>deces</th>\n",
       "      <th>deces_ehpad</th>\n",
       "      <th>reanimation</th>\n",
       "      <th>hospitalises</th>\n",
       "      <th>gueris</th>\n",
       "      <th>depistes</th>\n",
       "      <th>source_nom</th>\n",
       "      <th>source_url</th>\n",
       "      <th>source_archive</th>\n",
       "      <th>source_type</th>\n",
       "      <th>susceptible</th>\n",
       "    </tr>\n",
       "  </thead>\n",
       "  <tbody>\n",
       "    <tr>\n",
       "      <th>0</th>\n",
       "      <td>2020-01-24</td>\n",
       "      <td>pays</td>\n",
       "      <td>FRA</td>\n",
       "      <td>France</td>\n",
       "      <td>3.0</td>\n",
       "      <td>NaN</td>\n",
       "      <td>NaN</td>\n",
       "      <td>NaN</td>\n",
       "      <td>0.0</td>\n",
       "      <td>NaN</td>\n",
       "      <td>NaN</td>\n",
       "      <td>3.0</td>\n",
       "      <td>NaN</td>\n",
       "      <td>NaN</td>\n",
       "      <td>Santé publique France</td>\n",
       "      <td>https://www.santepubliquefrance.fr/maladies-et...</td>\n",
       "      <td>https://web.archive.org/web/20200124202351/htt...</td>\n",
       "      <td>sante-publique-france</td>\n",
       "      <td>NaN</td>\n",
       "    </tr>\n",
       "    <tr>\n",
       "      <th>1</th>\n",
       "      <td>2020-01-25</td>\n",
       "      <td>pays</td>\n",
       "      <td>FRA</td>\n",
       "      <td>France</td>\n",
       "      <td>3.0</td>\n",
       "      <td>NaN</td>\n",
       "      <td>NaN</td>\n",
       "      <td>NaN</td>\n",
       "      <td>0.0</td>\n",
       "      <td>NaN</td>\n",
       "      <td>NaN</td>\n",
       "      <td>NaN</td>\n",
       "      <td>NaN</td>\n",
       "      <td>NaN</td>\n",
       "      <td>Santé publique France</td>\n",
       "      <td>https://www.santepubliquefrance.fr/maladies-et...</td>\n",
       "      <td>https://web.archive.org/web/20200126024644/htt...</td>\n",
       "      <td>sante-publique-france</td>\n",
       "      <td>NaN</td>\n",
       "    </tr>\n",
       "    <tr>\n",
       "      <th>2</th>\n",
       "      <td>2020-01-26</td>\n",
       "      <td>pays</td>\n",
       "      <td>FRA</td>\n",
       "      <td>France</td>\n",
       "      <td>3.0</td>\n",
       "      <td>NaN</td>\n",
       "      <td>NaN</td>\n",
       "      <td>NaN</td>\n",
       "      <td>NaN</td>\n",
       "      <td>NaN</td>\n",
       "      <td>NaN</td>\n",
       "      <td>NaN</td>\n",
       "      <td>NaN</td>\n",
       "      <td>NaN</td>\n",
       "      <td>Santé publique France</td>\n",
       "      <td>https://www.santepubliquefrance.fr/maladies-et...</td>\n",
       "      <td>https://web.archive.org/web/20200127144431/htt...</td>\n",
       "      <td>sante-publique-france</td>\n",
       "      <td>NaN</td>\n",
       "    </tr>\n",
       "    <tr>\n",
       "      <th>3</th>\n",
       "      <td>2020-01-27</td>\n",
       "      <td>pays</td>\n",
       "      <td>FRA</td>\n",
       "      <td>France</td>\n",
       "      <td>3.0</td>\n",
       "      <td>NaN</td>\n",
       "      <td>NaN</td>\n",
       "      <td>NaN</td>\n",
       "      <td>0.0</td>\n",
       "      <td>NaN</td>\n",
       "      <td>0.0</td>\n",
       "      <td>3.0</td>\n",
       "      <td>0.0</td>\n",
       "      <td>NaN</td>\n",
       "      <td>Santé publique France</td>\n",
       "      <td>https://www.santepubliquefrance.fr/maladies-et...</td>\n",
       "      <td>https://web.archive.org/web/20200128153608/htt...</td>\n",
       "      <td>sante-publique-france</td>\n",
       "      <td>66999997.0</td>\n",
       "    </tr>\n",
       "    <tr>\n",
       "      <th>4</th>\n",
       "      <td>2020-01-28</td>\n",
       "      <td>pays</td>\n",
       "      <td>FRA</td>\n",
       "      <td>France</td>\n",
       "      <td>4.0</td>\n",
       "      <td>NaN</td>\n",
       "      <td>NaN</td>\n",
       "      <td>NaN</td>\n",
       "      <td>0.0</td>\n",
       "      <td>NaN</td>\n",
       "      <td>1.0</td>\n",
       "      <td>4.0</td>\n",
       "      <td>0.0</td>\n",
       "      <td>NaN</td>\n",
       "      <td>Santé publique France</td>\n",
       "      <td>https://www.santepubliquefrance.fr/maladies-et...</td>\n",
       "      <td>https://web.archive.org/web/20200212192607/htt...</td>\n",
       "      <td>sante-publique-france</td>\n",
       "      <td>66999996.0</td>\n",
       "    </tr>\n",
       "    <tr>\n",
       "      <th>...</th>\n",
       "      <td>...</td>\n",
       "      <td>...</td>\n",
       "      <td>...</td>\n",
       "      <td>...</td>\n",
       "      <td>...</td>\n",
       "      <td>...</td>\n",
       "      <td>...</td>\n",
       "      <td>...</td>\n",
       "      <td>...</td>\n",
       "      <td>...</td>\n",
       "      <td>...</td>\n",
       "      <td>...</td>\n",
       "      <td>...</td>\n",
       "      <td>...</td>\n",
       "      <td>...</td>\n",
       "      <td>...</td>\n",
       "      <td>...</td>\n",
       "      <td>...</td>\n",
       "      <td>...</td>\n",
       "    </tr>\n",
       "    <tr>\n",
       "      <th>100</th>\n",
       "      <td>2020-05-08</td>\n",
       "      <td>pays</td>\n",
       "      <td>FRA</td>\n",
       "      <td>France</td>\n",
       "      <td>138421.0</td>\n",
       "      <td>72548.0</td>\n",
       "      <td>34890.0</td>\n",
       "      <td>NaN</td>\n",
       "      <td>16497.0</td>\n",
       "      <td>9733.0</td>\n",
       "      <td>2868.0</td>\n",
       "      <td>22724.0</td>\n",
       "      <td>55782.0</td>\n",
       "      <td>NaN</td>\n",
       "      <td>Ministère des Solidarités et de la Santé</td>\n",
       "      <td>NaN</td>\n",
       "      <td>NaN</td>\n",
       "      <td>ministere-sante</td>\n",
       "      <td>66789300.0</td>\n",
       "    </tr>\n",
       "    <tr>\n",
       "      <th>101</th>\n",
       "      <td>2020-05-09</td>\n",
       "      <td>pays</td>\n",
       "      <td>FRA</td>\n",
       "      <td>France</td>\n",
       "      <td>138854.0</td>\n",
       "      <td>72850.0</td>\n",
       "      <td>35046.0</td>\n",
       "      <td>NaN</td>\n",
       "      <td>16573.0</td>\n",
       "      <td>9737.0</td>\n",
       "      <td>2812.0</td>\n",
       "      <td>22614.0</td>\n",
       "      <td>56038.0</td>\n",
       "      <td>NaN</td>\n",
       "      <td>Ministère des Solidarités et de la Santé</td>\n",
       "      <td>NaN</td>\n",
       "      <td>NaN</td>\n",
       "      <td>ministere-sante</td>\n",
       "      <td>66788535.0</td>\n",
       "    </tr>\n",
       "    <tr>\n",
       "      <th>102</th>\n",
       "      <td>2020-05-10</td>\n",
       "      <td>pays</td>\n",
       "      <td>FRA</td>\n",
       "      <td>France</td>\n",
       "      <td>139063.0</td>\n",
       "      <td>73143.0</td>\n",
       "      <td>35236.0</td>\n",
       "      <td>NaN</td>\n",
       "      <td>16642.0</td>\n",
       "      <td>9738.0</td>\n",
       "      <td>2776.0</td>\n",
       "      <td>22569.0</td>\n",
       "      <td>56217.0</td>\n",
       "      <td>NaN</td>\n",
       "      <td>Ministère des Solidarités et de la Santé</td>\n",
       "      <td>NaN</td>\n",
       "      <td>NaN</td>\n",
       "      <td>ministere-sante</td>\n",
       "      <td>66788078.0</td>\n",
       "    </tr>\n",
       "    <tr>\n",
       "      <th>103</th>\n",
       "      <td>2020-05-11</td>\n",
       "      <td>pays</td>\n",
       "      <td>FRA</td>\n",
       "      <td>France</td>\n",
       "      <td>139519.0</td>\n",
       "      <td>73099.0</td>\n",
       "      <td>35195.0</td>\n",
       "      <td>NaN</td>\n",
       "      <td>16820.0</td>\n",
       "      <td>9823.0</td>\n",
       "      <td>2712.0</td>\n",
       "      <td>22284.0</td>\n",
       "      <td>56724.0</td>\n",
       "      <td>NaN</td>\n",
       "      <td>Ministère des Solidarités et de la Santé</td>\n",
       "      <td>NaN</td>\n",
       "      <td>NaN</td>\n",
       "      <td>ministere-sante</td>\n",
       "      <td>66786937.0</td>\n",
       "    </tr>\n",
       "    <tr>\n",
       "      <th>104</th>\n",
       "      <td>2020-05-12</td>\n",
       "      <td>pays</td>\n",
       "      <td>FRA</td>\n",
       "      <td>France</td>\n",
       "      <td>140227.0</td>\n",
       "      <td>73435.0</td>\n",
       "      <td>35437.0</td>\n",
       "      <td>NaN</td>\n",
       "      <td>17003.0</td>\n",
       "      <td>9988.0</td>\n",
       "      <td>2542.0</td>\n",
       "      <td>21595.0</td>\n",
       "      <td>57785.0</td>\n",
       "      <td>NaN</td>\n",
       "      <td>Ministère des Solidarités et de la Santé</td>\n",
       "      <td>NaN</td>\n",
       "      <td>NaN</td>\n",
       "      <td>ministere-sante</td>\n",
       "      <td>66784985.0</td>\n",
       "    </tr>\n",
       "  </tbody>\n",
       "</table>\n",
       "<p>105 rows × 19 columns</p>\n",
       "</div>"
      ],
      "text/plain": [
       "           date granularite maille_code maille_nom  cas_confirmes  cas_ehpad  \\\n",
       "0    2020-01-24        pays         FRA     France            3.0        NaN   \n",
       "1    2020-01-25        pays         FRA     France            3.0        NaN   \n",
       "2    2020-01-26        pays         FRA     France            3.0        NaN   \n",
       "3    2020-01-27        pays         FRA     France            3.0        NaN   \n",
       "4    2020-01-28        pays         FRA     France            4.0        NaN   \n",
       "..          ...         ...         ...        ...            ...        ...   \n",
       "100  2020-05-08        pays         FRA     France       138421.0    72548.0   \n",
       "101  2020-05-09        pays         FRA     France       138854.0    72850.0   \n",
       "102  2020-05-10        pays         FRA     France       139063.0    73143.0   \n",
       "103  2020-05-11        pays         FRA     France       139519.0    73099.0   \n",
       "104  2020-05-12        pays         FRA     France       140227.0    73435.0   \n",
       "\n",
       "     cas_confirmes_ehpad  cas_possibles_ehpad    deces  deces_ehpad  \\\n",
       "0                    NaN                  NaN      0.0          NaN   \n",
       "1                    NaN                  NaN      0.0          NaN   \n",
       "2                    NaN                  NaN      NaN          NaN   \n",
       "3                    NaN                  NaN      0.0          NaN   \n",
       "4                    NaN                  NaN      0.0          NaN   \n",
       "..                   ...                  ...      ...          ...   \n",
       "100              34890.0                  NaN  16497.0       9733.0   \n",
       "101              35046.0                  NaN  16573.0       9737.0   \n",
       "102              35236.0                  NaN  16642.0       9738.0   \n",
       "103              35195.0                  NaN  16820.0       9823.0   \n",
       "104              35437.0                  NaN  17003.0       9988.0   \n",
       "\n",
       "     reanimation  hospitalises   gueris  depistes  \\\n",
       "0            NaN           3.0      NaN       NaN   \n",
       "1            NaN           NaN      NaN       NaN   \n",
       "2            NaN           NaN      NaN       NaN   \n",
       "3            0.0           3.0      0.0       NaN   \n",
       "4            1.0           4.0      0.0       NaN   \n",
       "..           ...           ...      ...       ...   \n",
       "100       2868.0       22724.0  55782.0       NaN   \n",
       "101       2812.0       22614.0  56038.0       NaN   \n",
       "102       2776.0       22569.0  56217.0       NaN   \n",
       "103       2712.0       22284.0  56724.0       NaN   \n",
       "104       2542.0       21595.0  57785.0       NaN   \n",
       "\n",
       "                                   source_nom  \\\n",
       "0                       Santé publique France   \n",
       "1                       Santé publique France   \n",
       "2                       Santé publique France   \n",
       "3                       Santé publique France   \n",
       "4                       Santé publique France   \n",
       "..                                        ...   \n",
       "100  Ministère des Solidarités et de la Santé   \n",
       "101  Ministère des Solidarités et de la Santé   \n",
       "102  Ministère des Solidarités et de la Santé   \n",
       "103  Ministère des Solidarités et de la Santé   \n",
       "104  Ministère des Solidarités et de la Santé   \n",
       "\n",
       "                                            source_url  \\\n",
       "0    https://www.santepubliquefrance.fr/maladies-et...   \n",
       "1    https://www.santepubliquefrance.fr/maladies-et...   \n",
       "2    https://www.santepubliquefrance.fr/maladies-et...   \n",
       "3    https://www.santepubliquefrance.fr/maladies-et...   \n",
       "4    https://www.santepubliquefrance.fr/maladies-et...   \n",
       "..                                                 ...   \n",
       "100                                                NaN   \n",
       "101                                                NaN   \n",
       "102                                                NaN   \n",
       "103                                                NaN   \n",
       "104                                                NaN   \n",
       "\n",
       "                                        source_archive            source_type  \\\n",
       "0    https://web.archive.org/web/20200124202351/htt...  sante-publique-france   \n",
       "1    https://web.archive.org/web/20200126024644/htt...  sante-publique-france   \n",
       "2    https://web.archive.org/web/20200127144431/htt...  sante-publique-france   \n",
       "3    https://web.archive.org/web/20200128153608/htt...  sante-publique-france   \n",
       "4    https://web.archive.org/web/20200212192607/htt...  sante-publique-france   \n",
       "..                                                 ...                    ...   \n",
       "100                                                NaN        ministere-sante   \n",
       "101                                                NaN        ministere-sante   \n",
       "102                                                NaN        ministere-sante   \n",
       "103                                                NaN        ministere-sante   \n",
       "104                                                NaN        ministere-sante   \n",
       "\n",
       "     susceptible  \n",
       "0            NaN  \n",
       "1            NaN  \n",
       "2            NaN  \n",
       "3     66999997.0  \n",
       "4     66999996.0  \n",
       "..           ...  \n",
       "100   66789300.0  \n",
       "101   66788535.0  \n",
       "102   66788078.0  \n",
       "103   66786937.0  \n",
       "104   66784985.0  \n",
       "\n",
       "[105 rows x 19 columns]"
      ]
     },
     "execution_count": 46,
     "metadata": {},
     "output_type": "execute_result"
    }
   ],
   "source": [
    "evolution_par_jour"
   ]
  },
  {
   "cell_type": "code",
   "execution_count": null,
   "metadata": {},
   "outputs": [],
   "source": []
  }
 ],
 "metadata": {
  "colab": {
   "collapsed_sections": [],
   "name": "Copie de exploration_chiffres_cles.ipynb",
   "provenance": []
  },
  "kernelspec": {
   "display_name": "Python 3",
   "language": "python",
   "name": "python3"
  },
  "language_info": {
   "codemirror_mode": {
    "name": "ipython",
    "version": 3
   },
   "file_extension": ".py",
   "mimetype": "text/x-python",
   "name": "python",
   "nbconvert_exporter": "python",
   "pygments_lexer": "ipython3",
   "version": "3.8.2"
  }
 },
 "nbformat": 4,
 "nbformat_minor": 1
}
